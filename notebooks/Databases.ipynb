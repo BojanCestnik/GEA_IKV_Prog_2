{
 "cells": [
  {
   "cell_type": "markdown",
   "metadata": {},
   "source": [
    "# Database connectivity \n",
    "\n",
    "in Python refers to the ability of Python applications to communicate and interact with databases. This is usually achieved using modules or libraries that provide a consistent interface between the Python application and the database system."
   ]
  },
  {
   "cell_type": "code",
   "execution_count": null,
   "metadata": {},
   "outputs": [],
   "source": [
    "import sqlite3\n",
    "\n",
    "db_path = 'C:/work_prog/GEA_IKV_Prog_2/notebooks/sample.db'\n",
    "\n",
    "# Step 1: Connect to a database named 'sample.db'. If it doesn't exist, it will be created.\n",
    "conn = sqlite3.connect(db_path)\n",
    "\n",
    "# Step 2: Create a table called `users` with an `id` and a `name`.\n",
    "cursor = conn.cursor()\n",
    "cursor.execute('''\n",
    "CREATE TABLE users (\n",
    "    id INTEGER PRIMARY KEY,\n",
    "    name TEXT NOT NULL\n",
    ")\n",
    "''')\n",
    "\n",
    "# Step 3: Populate the table with some data.\n",
    "users_data = [\n",
    "    ('Alenka',),\n",
    "    ('Boris',),\n",
    "    ('Cene',),\n",
    "]\n",
    "cursor.executemany('INSERT INTO users (name) VALUES (?)', users_data)\n",
    "conn.commit()\n",
    "\n",
    "# Step 4: Query the table and retrieve all rows.\n",
    "cursor.execute(\"SELECT * FROM users\")\n",
    "rows = cursor.fetchall()\n",
    "\n",
    "# Step 5: Close the connection.\n",
    "conn.close()\n",
    "\n",
    "rows\n"
   ]
  },
  {
   "cell_type": "markdown",
   "metadata": {},
   "source": [
    "Demo of CRUD (Create, Read, Update, Delete) operations"
   ]
  },
  {
   "cell_type": "code",
   "execution_count": null,
   "metadata": {},
   "outputs": [],
   "source": [
    "import sqlite3\n",
    "\n",
    "def connect_to_db(db_path):\n",
    "    return sqlite3.connect(db_path)\n",
    "\n",
    "def create_user(conn, name):\n",
    "    cursor = conn.cursor()\n",
    "    cursor.execute(\"INSERT INTO users (name) VALUES (?)\", (name,))\n",
    "    conn.commit()\n",
    "    return cursor.lastrowid\n",
    "\n",
    "def read_users(conn):\n",
    "    cursor = conn.cursor()\n",
    "    cursor.execute(\"SELECT * FROM users\")\n",
    "    return cursor.fetchall()\n",
    "\n",
    "def read_single_user(conn, user_id):\n",
    "    cursor = conn.cursor()\n",
    "    cursor.execute(\"SELECT * FROM users WHERE id = \" + user_id) # SELECT * FROM Users WHERE UserId = 105 OR 1=1;\n",
    "    return cursor.fetchall()\n",
    "\n",
    "def update_user(conn, user_id, new_name):\n",
    "    cursor = conn.cursor()\n",
    "    cursor.execute(\"UPDATE users SET name = ? WHERE id = ?\", (new_name, user_id))\n",
    "    conn.commit()\n",
    "\n",
    "def delete_user(conn, user_id):\n",
    "    cursor = conn.cursor()\n",
    "    cursor.execute(\"DELETE FROM users WHERE id = ?\", (user_id,))\n",
    "    conn.commit()\n"
   ]
  },
  {
   "cell_type": "code",
   "execution_count": null,
   "metadata": {},
   "outputs": [],
   "source": [
    "# Connect to the database\n",
    "conn = connect_to_db(db_path)\n",
    "    \n",
    "# Create a new user\n",
    "new_user_id = create_user(conn, \"Domen\")\n",
    "print(f\"User 'Domen' added with ID {new_user_id}\")\n",
    "    \n",
    "# Read all users\n",
    "print(\"Users in the database:\")\n",
    "for user in read_users(conn):\n",
    "    print(user)\n",
    "    \n",
    "# Update a user's name\n",
    "update_user(conn, new_user_id, \"Damjan\")\n",
    "print(f\"\\nUpdated user {new_user_id}'s name to 'Damjan'\")\n",
    "    \n",
    "# Read all users after update\n",
    "print(\"Users in the database after update:\")\n",
    "for user in read_users(conn):\n",
    "    print(user)\n",
    "    \n",
    "# Delete a user\n",
    "delete_user(conn, new_user_id)\n",
    "print(f\"\\nDeleted user with ID {new_user_id}\")\n",
    "    \n",
    "# Read all users after deletion\n",
    "print(\"Users in the database after deletion:\")\n",
    "for user in read_users(conn):\n",
    "    print(user)\n",
    "    \n",
    "# Close the connection\n",
    "conn.close()\n"
   ]
  },
  {
   "cell_type": "markdown",
   "metadata": {},
   "source": [
    "# SQL injection attack example"
   ]
  },
  {
   "cell_type": "code",
   "execution_count": null,
   "metadata": {},
   "outputs": [],
   "source": [
    "# Connect to the database\n",
    "conn = connect_to_db(db_path)\n",
    "    \n",
    "# Read user with id 1\n",
    "user_id = \"1\"\n",
    "print(\"User with id 1 is:\")\n",
    "for user in read_single_user(conn, user_id):\n",
    "    print(user)\n",
    "\n",
    "print()\n",
    "\n",
    "# Read user with id 1 with \"injection\"\n",
    "injection = \" OR 1=1\"\n",
    "user_id = user_id + injection\n",
    "print(\"User(s) with id 1 -- with SQL injection -- are:\")\n",
    "for user in read_single_user(conn, user_id):\n",
    "    print(user)\n",
    "    \n",
    "# Close the connection\n",
    "conn.close()\n"
   ]
  },
  {
   "cell_type": "code",
   "execution_count": null,
   "metadata": {},
   "outputs": [],
   "source": [
    "import os\n",
    "\n",
    "# delete db file\n",
    "os.remove(db_path)"
   ]
  },
  {
   "cell_type": "markdown",
   "metadata": {},
   "source": [
    "# Connect to postgres database"
   ]
  },
  {
   "cell_type": "code",
   "execution_count": null,
   "metadata": {},
   "outputs": [],
   "source": [
    "import psycopg2\n",
    "\n",
    "def connect_to_postgres(dbname, user, password, host=\"localhost\", port=\"5432\"):\n",
    "    try:\n",
    "        # Connect to the PostgreSQL server\n",
    "        conn = psycopg2.connect(\n",
    "            dbname=dbname,\n",
    "            user=user,\n",
    "            password=password,\n",
    "            host=host,\n",
    "            port=port\n",
    "        )\n",
    "        \n",
    "        # Create a new cursor\n",
    "        cursor = conn.cursor()\n",
    "        \n",
    "        # Print PostgreSQL version\n",
    "        cursor.execute(\"SELECT version();\")\n",
    "        db_version = cursor.fetchone()\n",
    "        print(f\"Connected to: {db_version[0]}\")\n",
    "        \n",
    "        # Close the cursor and connection\n",
    "        cursor.close()\n",
    "        conn.close()\n",
    "    except (Exception, psycopg2.DatabaseError) as error:\n",
    "        print(f\"Error: {error}\")\n",
    "        return None\n",
    "\n",
    "# Call the function\n",
    "connect_to_postgres(\"gea_ikv_test\", \"bojan\", \"bojan123\", \"localhost\", \"5432\")\n"
   ]
  },
  {
   "cell_type": "code",
   "execution_count": null,
   "metadata": {},
   "outputs": [],
   "source": [
    "import pandas as pd\n",
    "\n",
    "def connect_and_fetch_data():\n",
    "    # PostgreSQL server connection parameters\n",
    "    host = \"localhost\"  \n",
    "    dbname = \"ashrae\"\n",
    "    user = \"bojan\"\n",
    "    password = \"bojan123\"\n",
    "    port = \"5432\"\n",
    "    \n",
    "    # Connection string\n",
    "    conn_string = f\"host={host} dbname={dbname} user={user} password={password} port={port}\"\n",
    "\n",
    "    try:\n",
    "        # Connect to the PostgreSQL server\n",
    "        conn = psycopg2.connect(conn_string)\n",
    "\n",
    "        # Create a new cursor\n",
    "        cur = conn.cursor()\n",
    "\n",
    "        # Execute a query\n",
    "        cur.execute(\"SELECT * FROM breast_cancer\")\n",
    "\n",
    "        # Fetch all rows from the table\n",
    "        rows = cur.fetchall()\n",
    "\n",
    "        # Convert to a pandas DataFrame for nicer display\n",
    "        df = pd.DataFrame(rows, columns=[desc[0] for desc in cur.description])\n",
    "\n",
    "        # Display the DataFrame\n",
    "        print(df)\n",
    "\n",
    "        # Close the cursor and connection\n",
    "        cur.close()\n",
    "        conn.close()\n",
    "        return df\n",
    "\n",
    "    except Exception as e:\n",
    "        print(f\"An error occurred: {e}\")\n",
    "\n",
    "df = connect_and_fetch_data()\n"
   ]
  },
  {
   "cell_type": "code",
   "execution_count": null,
   "metadata": {},
   "outputs": [],
   "source": [
    "from tabulate import tabulate\n",
    "\n",
    "# Use tabulate to display the DataFrame in a table format\n",
    "print(tabulate(df, headers='keys', tablefmt='grid'))\n"
   ]
  },
  {
   "cell_type": "code",
   "execution_count": null,
   "metadata": {},
   "outputs": [],
   "source": [
    "# Example of using pandas styling\n",
    "styled_df = df.style.background_gradient(cmap='viridis', subset=[\"deg_malig\"]) \\\n",
    "    .highlight_max(color='lightgreen', subset=[\"tumor_size\"]) \\\n",
    "    .highlight_min(color='yellow', subset=[\"class_name\"]) \\\n",
    "    .format(\"{:.2f}\", subset=[]) \\\n",
    "    .set_properties(**{'text-align': 'center'})\n",
    "\n",
    "# Display the styled DataFrame\n",
    "styled_df\n"
   ]
  },
  {
   "cell_type": "code",
   "execution_count": null,
   "metadata": {},
   "outputs": [],
   "source": []
  }
 ],
 "metadata": {
  "kernelspec": {
   "display_name": "venv",
   "language": "python",
   "name": "python3"
  },
  "language_info": {
   "codemirror_mode": {
    "name": "ipython",
    "version": 3
   },
   "file_extension": ".py",
   "mimetype": "text/x-python",
   "name": "python",
   "nbconvert_exporter": "python",
   "pygments_lexer": "ipython3",
   "version": "3.7.9"
  }
 },
 "nbformat": 4,
 "nbformat_minor": 2
}
