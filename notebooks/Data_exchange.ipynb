{
 "cells": [
  {
   "cell_type": "markdown",
   "metadata": {},
   "source": [
    "# Data exchange between applications"
   ]
  },
  {
   "cell_type": "markdown",
   "metadata": {},
   "source": [
    "Data exchange between applications is a crucial aspect of modern software development, and various data formats are used for this purpose. The importance of each format can vary depending on the use case, but generally, the following are considered some of the most important:\n",
    "\n",
    "* JSON (JavaScript Object Notation): JSON is arguably the most popular data format for data exchange, especially in web applications. Its lightweight nature, human-readable format, and compatibility with JavaScript make it highly preferred for client-server communication.\n",
    "\n",
    "* XML (eXtensible Markup Language): XML is another widely used format, particularly in enterprise and legacy systems. It is more verbose than JSON but is highly flexible and supports complex data structures. It is also language-independent and supports namespaces and schemas.\n",
    "\n",
    "* Protobuf (Protocol Buffers): Developed by Google, Protobuf is a language-agnostic binary serialization format. It's known for being more efficient and faster than JSON and XML, making it a good choice for internal communication in distributed systems and microservices.\n",
    "\n",
    "* YAML (YAML Ain't Markup Language): YAML is often used for configuration files and data serialization. It's more human-readable than JSON and XML, making it a popular choice for settings, configuration files, and data that need to be easily understood and edited by humans.\n",
    "\n",
    "* CSV (Comma-Separated Values): CSV is a simple format used to store tabular data. It's widely used for data export and import in databases and spreadsheets. Its simplicity and widespread support in many tools make it a common choice for data exchange, especially when dealing with large volumes of tabular data.\n",
    "\n",
    "These formats cover a wide range of use cases, from web APIs (JSON, XML) to configuration management (YAML) and data analysis (CSV). The choice of format often depends on the specific requirements of the application, such as speed, readability, and compatibility with existing systems."
   ]
  },
  {
   "cell_type": "code",
   "execution_count": null,
   "metadata": {},
   "outputs": [],
   "source": [
    "import json\n",
    "import dicttoxml\n",
    "\n",
    "def producer_main():\n",
    "    # Data to be exchanged\n",
    "    data = {\n",
    "        \"name\": \"Alenka\",\n",
    "        \"age\": 30,\n",
    "        \"email\": \"alenka@example.com\"\n",
    "    }\n",
    "\n",
    "    # Convert data to JSON\n",
    "    json_data = json.dumps(data)\n",
    "    print(\"JSON Data:\\n\", json_data)\n",
    "\n",
    "    # Convert data to XML\n",
    "    xml_data = dicttoxml.dicttoxml(data).decode()\n",
    "    print(\"\\nXML Data:\\n\", xml_data)\n"
   ]
  },
  {
   "cell_type": "code",
   "execution_count": 13,
   "metadata": {},
   "outputs": [
    {
     "name": "stdout",
     "output_type": "stream",
     "text": [
      "JSON Data:\n",
      " {\"name\": \"Alenka\", \"age\": 30, \"email\": \"alenka@example.com\"}\n",
      "\n",
      "XML Data:\n",
      " <?xml version=\"1.0\" encoding=\"UTF-8\" ?><root><name type=\"str\">Alenka</name><age type=\"int\">30</age><email type=\"str\">alenka@example.com</email></root>\n"
     ]
    }
   ],
   "source": [
    "producer_main()"
   ]
  },
  {
   "cell_type": "code",
   "execution_count": 14,
   "metadata": {},
   "outputs": [],
   "source": [
    "import json\n",
    "import xml.etree.ElementTree as ET\n",
    "\n",
    "def process_json(json_data):\n",
    "    data = json.loads(json_data)\n",
    "    print(\"Processed JSON:\\n\", data)\n",
    "\n",
    "def process_xml(xml_data):\n",
    "    tree = ET.ElementTree(ET.fromstring(xml_data))\n",
    "    root = tree.getroot()\n",
    "    data = {child.tag: child.text for child in root}\n",
    "    print(\"Processed XML:\\n\", data)\n",
    "\n",
    "def consumer_main():\n",
    "    # Sample JSON data\n",
    "    json_data = '{\"name\": \"Alenka\", \"age\": 30, \"email\": \"alenka@example.com\"}'\n",
    "    process_json(json_data)\n",
    "\n",
    "    # Sample XML data\n",
    "    xml_data = \"<root><name>Alenka</name><age>30</age><email>alenka@example.com</email></root>\"\n",
    "    process_xml(xml_data)\n"
   ]
  },
  {
   "cell_type": "code",
   "execution_count": 15,
   "metadata": {},
   "outputs": [
    {
     "name": "stdout",
     "output_type": "stream",
     "text": [
      "Processed JSON:\n",
      " {'name': 'Alenka', 'age': 30, 'email': 'alenka@example.com'}\n",
      "Processed XML:\n",
      " {'name': 'Alenka', 'age': '30', 'email': 'alenka@example.com'}\n"
     ]
    }
   ],
   "source": [
    "consumer_main()"
   ]
  },
  {
   "cell_type": "code",
   "execution_count": null,
   "metadata": {},
   "outputs": [],
   "source": []
  }
 ],
 "metadata": {
  "kernelspec": {
   "display_name": "venv",
   "language": "python",
   "name": "python3"
  },
  "language_info": {
   "codemirror_mode": {
    "name": "ipython",
    "version": 3
   },
   "file_extension": ".py",
   "mimetype": "text/x-python",
   "name": "python",
   "nbconvert_exporter": "python",
   "pygments_lexer": "ipython3",
   "version": "3.7.9"
  }
 },
 "nbformat": 4,
 "nbformat_minor": 2
}
