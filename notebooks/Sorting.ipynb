{
 "cells": [
  {
   "cell_type": "markdown",
   "id": "e6283152",
   "metadata": {},
   "source": [
    "## Sorting algorithms"
   ]
  },
  {
   "cell_type": "markdown",
   "id": "18074ba7",
   "metadata": {},
   "source": [
    "- Generate a list of 1000 random integers.\n",
    "- Implement the sorting algorithms: bubble sort, insertion sort, selection sort, mergesort, heapsort, and quicksort.\n",
    "- Implement a function to measure the elapsed time for each sorting function.\n",
    "- Execute the sorting functions on the generated list and display the resulting times."
   ]
  },
  {
   "cell_type": "markdown",
   "id": "eefcc309",
   "metadata": {},
   "source": [
    "ChatGPT Prompt: Write a python script for presenting different sorting algorithms. First, generate a list of 1000 random integers. Then, write functions for bubble sort,  insertion sort, selection sort, mergesort, heapsort, and quicksort.  Include a function to measure elapsed time for each sorting function and display the resulting times.\n",
    "\n",
    "* In addition: shell sort."
   ]
  },
  {
   "cell_type": "code",
   "execution_count": 1,
   "id": "8ab41241",
   "metadata": {},
   "outputs": [
    {
     "data": {
      "text/plain": [
       "[4966, 9445, 1145, 8610, 2749, 4084, 1396, 6408, 3999, 7597]"
      ]
     },
     "execution_count": 1,
     "metadata": {},
     "output_type": "execute_result"
    }
   ],
   "source": [
    "import random\n",
    "\n",
    "# Generate a list of 5000 random integers between 1 and 10000\n",
    "random_integers = [random.randint(1, 10000) for _ in range(5000)]\n",
    "random_integers[:10]  # Display the first 10 integers for reference"
   ]
  },
  {
   "cell_type": "code",
   "execution_count": 2,
   "id": "ed4971bc",
   "metadata": {},
   "outputs": [],
   "source": [
    "def bubble_sort(arr):\n",
    "    n = len(arr)\n",
    "    for i in range(n):\n",
    "        swapped = False\n",
    "        for j in range(0, n-i-1):\n",
    "            if arr[j] > arr[j+1]:\n",
    "                arr[j], arr[j+1] = arr[j+1], arr[j]\n",
    "                swapped = True\n",
    "        if not swapped:\n",
    "            break\n",
    "    return arr"
   ]
  },
  {
   "cell_type": "code",
   "execution_count": 3,
   "id": "ffcf9413",
   "metadata": {},
   "outputs": [],
   "source": [
    "def insertion_sort(arr):\n",
    "    for i in range(1, len(arr)):\n",
    "        key = arr[i]\n",
    "        j = i-1\n",
    "        while j >=0 and key < arr[j]:\n",
    "            arr[j+1] = arr[j]\n",
    "            j -= 1\n",
    "        arr[j+1] = key\n",
    "    return arr"
   ]
  },
  {
   "cell_type": "code",
   "execution_count": 4,
   "id": "66852b3a",
   "metadata": {},
   "outputs": [],
   "source": [
    "def selection_sort(arr):\n",
    "    for i in range(len(arr)):\n",
    "        min_idx = i\n",
    "        for j in range(i+1, len(arr)):\n",
    "            if arr[j] < arr[min_idx]:\n",
    "                min_idx = j\n",
    "        arr[i], arr[min_idx] = arr[min_idx], arr[i]\n",
    "    return arr"
   ]
  },
  {
   "cell_type": "code",
   "execution_count": 5,
   "id": "cd9cdef0",
   "metadata": {},
   "outputs": [],
   "source": [
    "def merge_sort(arr):\n",
    "    if len(arr) <= 1:\n",
    "        return arr\n",
    "\n",
    "    mid = len(arr) // 2\n",
    "    left = arr[:mid]\n",
    "    right = arr[mid:]\n",
    "\n",
    "    left = merge_sort(left)\n",
    "    right = merge_sort(right)\n",
    "\n",
    "    return merge(left, right)\n",
    "\n",
    "def merge(left, right):\n",
    "    result = []\n",
    "    i = j = 0\n",
    "    while i < len(left) and j < len(right):\n",
    "        if left[i] < right[j]:\n",
    "            result.append(left[i])\n",
    "            i += 1\n",
    "        else:\n",
    "            result.append(right[j])\n",
    "            j += 1\n",
    "    result.extend(left[i:])\n",
    "    result.extend(right[j:])\n",
    "    return result"
   ]
  },
  {
   "cell_type": "code",
   "execution_count": 6,
   "id": "21f3caa1",
   "metadata": {},
   "outputs": [],
   "source": [
    "def heapify(arr, n, i):\n",
    "    largest = i\n",
    "    l = 2 * i + 1\n",
    "    r = 2 * i + 2\n",
    "\n",
    "    if l < n and arr[l] > arr[largest]:\n",
    "        largest = l\n",
    "\n",
    "    if r < n and arr[r] > arr[largest]:\n",
    "        largest = r\n",
    "\n",
    "    if largest != i:\n",
    "        arr[i], arr[largest] = arr[largest], arr[i]\n",
    "        heapify(arr, n, largest)\n",
    "\n",
    "def heap_sort(arr):\n",
    "    n = len(arr)\n",
    "\n",
    "    # Build a maxheap\n",
    "    for i in range(n // 2 - 1, -1, -1):\n",
    "        heapify(arr, n, i)\n",
    "\n",
    "    # Extract elements one by one\n",
    "    for i in range(n-1, 0, -1):\n",
    "        arr[i], arr[0] = arr[0], arr[i]\n",
    "        heapify(arr, i, 0)\n",
    "    \n",
    "    return arr"
   ]
  },
  {
   "cell_type": "code",
   "execution_count": 7,
   "id": "92dddb2d",
   "metadata": {},
   "outputs": [],
   "source": [
    "def quick_sort(arr):\n",
    "    if len(arr) <= 1:\n",
    "        return arr\n",
    "    pivot = arr[len(arr) // 2]\n",
    "    left = [x for x in arr if x < pivot]\n",
    "    middle = [x for x in arr if x == pivot]\n",
    "    right = [x for x in arr if x > pivot]\n",
    "    return quick_sort(left) + middle + quick_sort(right)"
   ]
  },
  {
   "cell_type": "markdown",
   "id": "77b08de3",
   "metadata": {},
   "source": [
    "## Shell Sort\n",
    "\n",
    "Named after its inventor Donald Shell, is essentially an extension of insertion sort. It improves on insertion sort by comparing elements separated by a gap of several positions. This allows elements to move to their correct position in the array more rapidly. As the algorithm progresses, the gap is reduced until it becomes 1, and the algorithm effectively becomes an insertion sort. However, by the time the gap is reduced to 1, most of the elements are already in the right (or nearly right) positions, making the insertion sort phase efficient.\n",
    "\n",
    "Basic Functionality:\n",
    "\n",
    "Gap Sequence: Start with a gap, typically half the size of the list. There are various sequences used for the gap: half of the list size, then half of that, and so on, until the gap is 1 (like in the provided implementation). Other sequences can be used as well, such as the Knuth's sequence.\n",
    "\n",
    "Gapped Insertion Sort: For each gap, perform a gapped insertion sort. Just like insertion sort, but instead of moving by 1 position, move by a gap.\n",
    "\n",
    "Reduce Gap: After sorting the entire array for a particular gap, reduce the gap and repeat the process.\n",
    "\n",
    "Final Phase: The final phase (gap=1) is a regular insertion sort, but by this time, the array is \"almost\" sorted, making the procedure efficient.\n",
    "\n",
    "Key Points:\n",
    "\n",
    "The performance of shell sort depends on the gap sequence chosen. The original sequence proposed by Shell (which halves the gap size at each step) may not be the most efficient for many cases.\n",
    "\n",
    "Shell sort is an in-place sorting algorithm.\n",
    "\n",
    "It's not stable by default because of the long jumps (or gaps) that can reorder equal elements.\n",
    "\n",
    "Its time complexity can vary based on the gap sequence, but it's generally faster than O(n^2) and slower than O(n log n) sorting algorithms.\n",
    "\n",
    "Shell sort is an intermediate sorting algorithm that offers a good trade-off between coding complexity and performance, especially for smaller datasets or when memory usage is a concern."
   ]
  },
  {
   "cell_type": "code",
   "execution_count": 8,
   "id": "f3f5d0d9",
   "metadata": {},
   "outputs": [],
   "source": [
    "def shell_sort(arr):\n",
    "    n = len(arr)\n",
    "    gap = n // 2\n",
    "    \n",
    "    # Start with a big gap, then reduce the gap\n",
    "    while gap > 0:\n",
    "        for i in range(gap, n):\n",
    "            temp = arr[i]\n",
    "            j = i\n",
    "            # Shift elements by gap\n",
    "            while j >= gap and arr[j - gap] > temp:\n",
    "                arr[j] = arr[j - gap]\n",
    "                j -= gap\n",
    "            arr[j] = temp\n",
    "        gap //= 2\n",
    "\n",
    "    return arr"
   ]
  },
  {
   "cell_type": "code",
   "execution_count": 9,
   "id": "6764da8c",
   "metadata": {},
   "outputs": [],
   "source": [
    "import time\n",
    "\n",
    "def measure_time(sort_function, data):\n",
    "    start_time = time.time()\n",
    "    sort_function(data.copy())  # Use a copy to ensure the original list isn't sorted in-place\n",
    "    end_time = time.time()\n",
    "    return end_time - start_time"
   ]
  },
  {
   "cell_type": "markdown",
   "id": "2f0649ca",
   "metadata": {},
   "source": [
    "## Execute the sorting functions on the generated list and display the resulting times:"
   ]
  },
  {
   "cell_type": "code",
   "execution_count": 10,
   "id": "edf556ad",
   "metadata": {},
   "outputs": [
    {
     "data": {
      "text/plain": [
       "{'Bubble Sort': 1.0618140697479248,\n",
       " 'Insertion Sort': 0.467984676361084,\n",
       " 'Selection Sort': 0.38185548782348633,\n",
       " 'Merge Sort': 0.008005857467651367,\n",
       " 'Heap Sort': 0.009836196899414062,\n",
       " 'Quick Sort': 0.009948015213012695,\n",
       " 'Shell Sort': 0.010050296783447266}"
      ]
     },
     "execution_count": 10,
     "metadata": {},
     "output_type": "execute_result"
    }
   ],
   "source": [
    "# Create a dictionary of sorting algorithms to execute and measure\n",
    "sorting_algorithms = {\n",
    "    \"Bubble Sort\": bubble_sort,\n",
    "    \"Insertion Sort\": insertion_sort,\n",
    "    \"Selection Sort\": selection_sort,\n",
    "    \"Merge Sort\": merge_sort,\n",
    "    \"Heap Sort\": heap_sort,\n",
    "    \"Quick Sort\": quick_sort,\n",
    "    \"Shell Sort\": shell_sort\n",
    "}\n",
    "\n",
    "# Measure the time taken for each sorting algorithm\n",
    "time_results = {}\n",
    "for name, function in sorting_algorithms.items():\n",
    "    elapsed_time = measure_time(function, random_integers)\n",
    "    time_results[name] = elapsed_time\n",
    "\n",
    "time_results"
   ]
  },
  {
   "cell_type": "markdown",
   "id": "96ff6636",
   "metadata": {},
   "source": [
    "From the results, we can observe that the divide-and-conquer algorithms (Merge Sort, Heap Sort, and Quick Sort) are significantly faster than the simpler algorithms (Bubble, Insertion, and Selection Sort) for this dataset size.\n",
    "\n",
    "Keep in mind that the actual times can vary based on the specific data, machine specifications, and other factors. However, the relative performance of the algorithms in terms of time complexity is consistent with common knowledge:\n",
    "\n",
    "Bubble, Insertion, and Selection Sort have a time complexity of O(n^2) in the worst case.\n",
    "\n",
    "Merge Sort and Heap Sort have a time complexity of O(n log n) in the worst case.\n",
    "\n",
    "Quick Sort has an average time complexity of O(n log n), but a worst-case time complexity of O(n^2) (though with proper optimizations and on average data, it tends to perform well)."
   ]
  },
  {
   "cell_type": "markdown",
   "id": "d06546e4",
   "metadata": {},
   "source": [
    "Sorting algorithms that preserve the relative order of equal elements are called stable sorts. Stability in sorting is important when you have a secondary criterion for sorting.\n",
    "\n",
    "For example, imagine you have a list of books sorted by author, and you want to sort it by title. Using a stable sort ensures that books with the same title will still be sorted by author within that title. An unstable sort may mix up the order of authors for books with the same title.\n",
    "\n",
    "From the sorting algorithms we discussed:\n",
    "\n",
    "## Stable sorts:\n",
    "\n",
    "Insertion Sort: It's inherently stable. When it encounters equal elements, it doesn't swap them, so their relative order is preserved.\n",
    "\n",
    "Bubble Sort: It's stable because when two elements are equal, they are not swapped.\n",
    "\n",
    "Merge Sort: It's stable, provided that when merging two lists, if two elements are equal, the element from the left list is always picked before the one from the right list.\n",
    "\n",
    "## Unstable sorts:\n",
    "\n",
    "Selection Sort: By default, it's unstable. This is because it scans the entire unsorted segment and swaps the minimum (or maximum) element with the first unsorted element, potentially changing the relative order of equal elements.\n",
    "\n",
    "Heap Sort: It's inherently unstable. The process of building and reconstructing the heap can change the relative order of equal elements.\n",
    "\n",
    "Quick Sort: In its basic form, it's unstable. The relative order can change based on the pivot selection and the partitioning process.\n",
    "\n",
    "However, note that some of these unstable sorts can be made stable with modifications, but doing so might add complexity or reduce efficiency. For instance, a stable version of selection sort can be implemented by pushing elements down rather than swapping them, but this usually isn't done because selection sort isn't typically chosen for scenarios where stability is crucial."
   ]
  },
  {
   "attachments": {},
   "cell_type": "markdown",
   "id": "f6d8cf07",
   "metadata": {},
   "source": [
    "https://www.youtube.com/watch?v=ZZuD6iUe3Pc\n",
    "\n",
    "https://www.youtube.com/watch?v=kPRA0W1kECg\n",
    "\n",
    "https://www.youtube.com/watch?v=AAwYzYkjNTg"
   ]
  },
  {
   "cell_type": "markdown",
   "id": "3b16e037",
   "metadata": {},
   "source": [
    "## Homework\n",
    "\n",
    "Include:\n",
    "\n",
    "* radix sort\n",
    "* cocktail shaker sort"
   ]
  },
  {
   "cell_type": "code",
   "execution_count": null,
   "id": "977a2c62",
   "metadata": {},
   "outputs": [],
   "source": []
  },
  {
   "cell_type": "code",
   "execution_count": null,
   "id": "394c81f9",
   "metadata": {},
   "outputs": [],
   "source": []
  }
 ],
 "metadata": {
  "kernelspec": {
   "display_name": "Python 3 (ipykernel)",
   "language": "python",
   "name": "python3"
  },
  "language_info": {
   "codemirror_mode": {
    "name": "ipython",
    "version": 3
   },
   "file_extension": ".py",
   "mimetype": "text/x-python",
   "name": "python",
   "nbconvert_exporter": "python",
   "pygments_lexer": "ipython3",
   "version": "3.7.9"
  }
 },
 "nbformat": 4,
 "nbformat_minor": 5
}
