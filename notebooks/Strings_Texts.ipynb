{
 "cells": [
  {
   "cell_type": "markdown",
   "metadata": {},
   "source": [
    "# String Data Type in Python\n",
    "\n",
    "In Python, a string is a sequence of characters. Strings in Python are immutable, which means once a string is created, it cannot be changed. However, you can create a new string based on the original string with modifications. Strings can be defined using either single quotes (' ') or double quotes (\" \"), and they can contain letters, numbers, special characters, spaces, and even escape sequences (like \\n for a new line).\n",
    "\n",
    "## String Operations\n",
    "\n",
    "Concatenation: Joining two or more strings together.\n",
    "Indexing: Accessing a specific character in a string using its position.\n",
    "Slicing: Extracting a portion of a string."
   ]
  },
  {
   "cell_type": "code",
   "execution_count": 1,
   "metadata": {},
   "outputs": [
    {
     "name": "stdout",
     "output_type": "stream",
     "text": [
      "Concatenated String: Hello World\n",
      "Character at index 4 in 'Hello': o\n",
      " - Note: the first character in string has index 0.\n",
      "Sliced string from index 1 to 4 in 'Hello': ell\n"
     ]
    }
   ],
   "source": [
    "# String concatenation\n",
    "string1 = \"Hello\"\n",
    "string2 = \"World\"\n",
    "concatenated_string = string1 + \" \" + string2\n",
    "print(\"Concatenated String:\", concatenated_string)\n",
    "\n",
    "# String indexing\n",
    "index = 4\n",
    "character_at_index = string1[index]\n",
    "print(f\"Character at index {index} in '{string1}':\", character_at_index)\n",
    "print(' - Note: the first character in string has index 0.')\n",
    "\n",
    "# String slicing\n",
    "start_index = 1\n",
    "end_index = 4\n",
    "sliced_string = string1[start_index:end_index]\n",
    "print(f\"Sliced string from index {start_index} to {end_index} in '{string1}':\", sliced_string)\n"
   ]
  },
  {
   "cell_type": "code",
   "execution_count": 2,
   "metadata": {},
   "outputs": [
    {
     "data": {
      "text/plain": [
       "('Hello World', 'o', 'ell')"
      ]
     },
     "execution_count": 2,
     "metadata": {},
     "output_type": "execute_result"
    }
   ],
   "source": [
    "# Repeat with implicit printing\n",
    "\n",
    "# Defining the strings\n",
    "string1 = \"Hello\"\n",
    "string2 = \"World\"\n",
    "\n",
    "# String concatenation\n",
    "concatenated_string = string1 + \" \" + string2\n",
    "\n",
    "# String indexing\n",
    "index = 4\n",
    "character_at_index = string1[index]\n",
    "\n",
    "# String slicing\n",
    "start_index = 1\n",
    "end_index = 4\n",
    "sliced_string = string1[start_index:end_index]\n",
    "\n",
    "(concatenated_string, character_at_index, sliced_string)\n"
   ]
  },
  {
   "cell_type": "markdown",
   "metadata": {},
   "source": [
    "## String Character Encoding\n",
    "\n",
    "Character encoding is a system that pairs a sequence of characters from a given set with something else (e.g. ordinal numbers) to enable the transmission and storage of data. In computing, we deal with different character encodings due to historical and practical reasons.\n",
    "\n",
    "1. ASCII (American Standard Code for Information Interchange):\n",
    "\n",
    "- It was one of the first character encodings and is based on the English alphabet.\n",
    "- ASCII uses 7 bits to represent each character, allowing for 128 different symbols.\n",
    "- It covers English letters, digits, and a few punctuation marks, but lacks characters from non-English languages.\n",
    "\n",
    "2. Unicode:\n",
    "\n",
    "- Unicode is a computing industry standard designed to consistently represent text expressed in most of the world's writing systems.\n",
    "- It can represent over a million characters, covering a wide array of languages and symbols.\n",
    "- Unicode is an abstract representation. To store Unicode characters in memory or on disk, we need a specific encoding, such as UTF-8 or UTF-16.\n",
    "\n",
    "3. UTF-8 (Unicode Transformation Format - 8 bits):\n",
    "\n",
    "- It is a variable-width character encoding that can represent any character in the Unicode standard.\n",
    "- UTF-8 is backward-compatible with ASCII.\n",
    "- It's the dominant character encoding for the web.\n",
    "\n",
    "4. Code Page (Windows Encoding):\n",
    "\n",
    "- Before Unicode became widespread, many different encodings were created to handle different languages and character sets. Windows had its own set of encodings known as \"code pages\".\n",
    "- Each code page supports different character sets. For instance, CP1250 is for Eastern European languages, while CP1251 is for Cyrillic script.\n",
    "- With the advent of Unicode, code pages have become less common, but you might still encounter them in legacy systems or older data.\n",
    "\n",
    "Converting Between Various String Encodings in Python:\n",
    "\n",
    "In Python, you can convert a string from one encoding to another using the *encode()* and *decode()* methods."
   ]
  },
  {
   "cell_type": "code",
   "execution_count": 3,
   "metadata": {},
   "outputs": [
    {
     "data": {
      "text/plain": [
       "(b'Hello, World! \\xe2\\x80\\x93 Special Character and Local Characters \\xc4\\x8d\\xc5\\xa1\\xc5\\xbe',\n",
       " 'Hello, World! – Special Character and Local Characters čšž',\n",
       " b'Hello, World! \\x96 Special Character and Local Characters \\xe8\\x9a\\x9e',\n",
       " 'Hello, World! – Special Character and Local Characters čšž')"
      ]
     },
     "execution_count": 3,
     "metadata": {},
     "output_type": "execute_result"
    }
   ],
   "source": [
    "# Original string (contains a special character for demonstration purposes)\n",
    "original_string = \"Hello, World! – Special Character and Local Characters čšž\"\n",
    "\n",
    "# Encoding the string to bytes in UTF-8\n",
    "utf8_encoded = original_string.encode('utf-8')\n",
    "\n",
    "# Decoding the bytes from UTF-8 to string\n",
    "utf8_decoded = utf8_encoded.decode('utf-8')\n",
    "\n",
    "# Encoding the string to bytes in CP1252 (Windows Encoding)\n",
    "cp1252_encoded = original_string.encode('cp1250', errors='ignore')  # ignoring characters not supported by CP1250\n",
    "\n",
    "# Decoding the bytes from CP1252 to string\n",
    "cp1252_decoded = cp1252_encoded.decode('cp1250')\n",
    "\n",
    "utf8_encoded, utf8_decoded, cp1252_encoded, cp1252_decoded\n"
   ]
  },
  {
   "cell_type": "markdown",
   "metadata": {},
   "source": [
    "The built-in *sorted()* function in Python can be used to return a new list containing all items from the original list (or any iterable), sorted in ascending order by default. When applied to strings, sorted() treats the string as a sequence of characters and returns a list of characters sorted in ascending order."
   ]
  },
  {
   "cell_type": "code",
   "execution_count": 2,
   "metadata": {},
   "outputs": [
    {
     "data": {
      "text/plain": [
       "'aejnčš'"
      ]
     },
     "execution_count": 2,
     "metadata": {},
     "output_type": "execute_result"
    }
   ],
   "source": [
    "# Original string\n",
    "string = \"programming\"\n",
    "string = \"češnja\"\n",
    "string_list = list(string)\n",
    "\n",
    "# Sorting the string\n",
    "sorted_characters = sorted(string_list) # sorted(string)\n",
    "\n",
    "# Joining the sorted characters to form a sorted string\n",
    "sorted_string = ''.join(sorted_characters)\n",
    "\n",
    "sorted_string\n"
   ]
  },
  {
   "cell_type": "code",
   "execution_count": 3,
   "metadata": {},
   "outputs": [
    {
     "data": {
      "text/plain": [
       "['apple', 'banana', 'cherry', 'date', 'češnja', 'želod']"
      ]
     },
     "execution_count": 3,
     "metadata": {},
     "output_type": "execute_result"
    }
   ],
   "source": [
    "# List of strings\n",
    "string_list = [\"banana\", \"želod\", \"apple\", \"cherry\", \"date\", \"češnja\"]\n",
    "\n",
    "# Sorting the list of strings\n",
    "sorted_list = sorted(string_list)\n",
    "\n",
    "sorted_list\n"
   ]
  },
  {
   "cell_type": "markdown",
   "metadata": {},
   "source": [
    "## Key-Indexed Counting:\n",
    "\n",
    "Key-indexed counting is a sorting technique that is particularly effective when the keys are small integers. It can also be adapted to work with strings where each character acts as a key. The algorithm works by computing the frequency of each key and then using those frequencies to determine where each item should be placed in the sorted order.\n",
    "\n",
    "Here's an overview of key-indexed counting for strings:\n",
    "\n",
    "- Count frequencies: Count the occurrences of each character (or key) in the input.\n",
    "- Compute starting indices: Determine where items with each key should start in the output.\n",
    "- Distribute the items: Place each item in its sorted position in the output.\n",
    "- Copy back: Copy the sorted items back to the original array."
   ]
  },
  {
   "cell_type": "code",
   "execution_count": 4,
   "metadata": {},
   "outputs": [
    {
     "data": {
      "text/plain": [
       "'cddeeegiiknnnoorsttuxy'"
      ]
     },
     "execution_count": 4,
     "metadata": {},
     "output_type": "execute_result"
    }
   ],
   "source": [
    "def key_indexed_counting_sort(s):\n",
    "    # Define the size of the count array (assuming ASCII characters)\n",
    "    R = 256  # Number of ASCII characters\n",
    "    N = len(s)\n",
    "    \n",
    "    # Initialize the count array with zeros\n",
    "    count = [0] * (R + 1)\n",
    "    aux = [\"\"] * N\n",
    "    \n",
    "    # Step 1: Count frequencies\n",
    "    for char in s:\n",
    "        count[ord(char) + 1] += 1\n",
    "    \n",
    "    # Step 2: Compute starting indices\n",
    "    for r in range(R):\n",
    "        count[r + 1] += count[r]\n",
    "    \n",
    "    # Step 3: Distribute the items\n",
    "    for char in s:\n",
    "        aux[count[ord(char)]] = char\n",
    "        count[ord(char)] += 1\n",
    "    \n",
    "    # Step 4: Copy back\n",
    "    sorted_string = ''.join(aux)\n",
    "    \n",
    "    return sorted_string\n",
    "\n",
    "# Demonstration\n",
    "input_string = \"keyindexedcountingsort\"\n",
    "sorted_result = key_indexed_counting_sort(input_string)\n",
    "sorted_result\n"
   ]
  },
  {
   "cell_type": "markdown",
   "metadata": {},
   "source": [
    "## LSD (Least Significant Digit) Radix Sort\n",
    "\n",
    "In LSD Radix Sort, strings are sorted starting from the rightmost character (least significant digit) and moving to the left. It's often used for fixed-length strings or numbers.\n",
    "\n",
    "## MSD (Most Significant Digit) Radix Sort\n",
    "\n",
    "In MSD Radix Sort, strings are sorted starting from the leftmost character (most significant digit) and moving to the right. It can handle variable-length strings."
   ]
  },
  {
   "cell_type": "code",
   "execution_count": 5,
   "metadata": {},
   "outputs": [],
   "source": [
    "def lsd_radix_sort(strings, W):\n",
    "    \"\"\"LSD Radix Sort for fixed-length strings.\"\"\"\n",
    "    R = 256  # Number of ASCII characters\n",
    "    aux = [\"\"] * len(strings)\n",
    "    \n",
    "    for d in reversed(range(W)):\n",
    "        count = [0] * (R + 1)\n",
    "        \n",
    "        # Count frequencies\n",
    "        for string in strings:\n",
    "            count[ord(string[d]) + 1] += 1\n",
    "        \n",
    "        # Compute starting indices\n",
    "        for r in range(R):\n",
    "            count[r + 1] += count[r]\n",
    "        \n",
    "        # Distribute strings\n",
    "        for string in strings:\n",
    "            aux[count[ord(string[d])]] = string\n",
    "            count[ord(string[d])] += 1\n",
    "        \n",
    "        # Copy back\n",
    "        for i in range(len(strings)):\n",
    "            strings[i] = aux[i]\n",
    "    \n",
    "    return strings\n"
   ]
  },
  {
   "cell_type": "code",
   "execution_count": 6,
   "metadata": {},
   "outputs": [],
   "source": [
    "def msd_radix_sort(strings):\n",
    "    \"\"\"MSD Radix Sort.\"\"\"\n",
    "    R = 256  # Number of ASCII characters\n",
    "    aux = [\"\"] * len(strings)\n",
    "    \n",
    "    def sort(strings, aux, lo, hi, d):\n",
    "        if hi <= lo:\n",
    "            return\n",
    "        \n",
    "        count = [0] * (R + 2)\n",
    "        \n",
    "        # Count frequencies\n",
    "        for i in range(lo, hi + 1):\n",
    "            c = ord(strings[i][d]) if d < len(strings[i]) else -1\n",
    "            count[c + 2] += 1\n",
    "        \n",
    "        # Compute starting indices\n",
    "        for r in range(R + 1):\n",
    "            count[r + 1] += count[r]\n",
    "        \n",
    "        # Distribute strings\n",
    "        for i in range(lo, hi + 1):\n",
    "            c = ord(strings[i][d]) if d < len(strings[i]) else -1\n",
    "            aux[count[c + 1]] = strings[i]\n",
    "            count[c + 1] += 1\n",
    "        \n",
    "        # Copy back\n",
    "        for i in range(lo, hi + 1):\n",
    "            strings[i] = aux[i - lo]\n",
    "        \n",
    "        # Recursively sort for each character value\n",
    "        for r in range(R):\n",
    "            sort(strings, aux, lo + count[r], lo + count[r + 1] - 1, d + 1)\n",
    "    \n",
    "    sort(strings, aux, 0, len(strings) - 1, 0)\n",
    "    return strings\n"
   ]
  },
  {
   "cell_type": "code",
   "execution_count": 7,
   "metadata": {},
   "outputs": [
    {
     "data": {
      "text/plain": [
       "(['bat', 'cat', 'dog', 'man', 'pan'], ['all', 'alley', 'apple', 'bat', 'cat'])"
      ]
     },
     "execution_count": 7,
     "metadata": {},
     "output_type": "execute_result"
    }
   ],
   "source": [
    "# Demonstration\n",
    "strings_lsd = [\"cat\", \"dog\", \"bat\", \"man\", \"pan\"]\n",
    "strings_msd = [\"bat\", \"cat\", \"apple\", \"all\", \"alley\"]\n",
    "\n",
    "sorted_lsd = lsd_radix_sort(strings_lsd, 3)\n",
    "sorted_msd = msd_radix_sort(strings_msd)\n",
    "\n",
    "sorted_lsd, sorted_msd\n"
   ]
  },
  {
   "cell_type": "markdown",
   "metadata": {},
   "source": [
    "## Brute-Force Substring Search\n",
    "\n",
    "The Brute-Force Substring Search algorithm checks for a substring by examining all possible positions it could appear in the main string. For each position, it checks if the substring matches the characters in the main string at that position."
   ]
  },
  {
   "cell_type": "code",
   "execution_count": 8,
   "metadata": {},
   "outputs": [],
   "source": [
    "def brute_force_substring_search(main_string, substring):\n",
    "    \"\"\"Brute-Force Substring Search.\"\"\"\n",
    "    M = len(substring)\n",
    "    N = len(main_string)\n",
    "\n",
    "    for i in range(N - M + 1):\n",
    "        j = 0\n",
    "        while j < M:\n",
    "            if main_string[i + j] != substring[j]:\n",
    "                break\n",
    "            j += 1\n",
    "        if j == M:  # Match found\n",
    "            return i\n",
    "    return -1  # No match found\n"
   ]
  },
  {
   "cell_type": "code",
   "execution_count": 9,
   "metadata": {},
   "outputs": [
    {
     "data": {
      "text/plain": [
       "(12, -1)"
      ]
     },
     "execution_count": 9,
     "metadata": {},
     "output_type": "execute_result"
    }
   ],
   "source": [
    "# Demonstration\n",
    "main_string = \"hellothisisateststring\"\n",
    "substring1 = \"test\"\n",
    "substring2 = \"world\"\n",
    "\n",
    "position1 = brute_force_substring_search(main_string, substring1)\n",
    "position2 = brute_force_substring_search(main_string, substring2)\n",
    "\n",
    "position1, position2\n"
   ]
  },
  {
   "cell_type": "markdown",
   "metadata": {},
   "source": [
    "## Knuth-Morris-Pratt (KMP) Algorithm\n",
    "\n",
    "The KMP algorithm preprocesses the pattern (substring) to generate a \"partial match\" table (also known as a \"failure function\"). This table determines how much we can skip ahead when a mismatch is found, which reduces the number of character comparisons."
   ]
  },
  {
   "cell_type": "code",
   "execution_count": 10,
   "metadata": {},
   "outputs": [],
   "source": [
    "# KMP Algorithm\n",
    "def kmp_search(text, pattern):\n",
    "    def compute_lps_array(pattern, M, lps):\n",
    "        length = 0\n",
    "        lps[0] = 0\n",
    "        i = 1\n",
    "        while i < M:\n",
    "            if pattern[i] == pattern[length]:\n",
    "                length += 1\n",
    "                lps[i] = length\n",
    "                i += 1\n",
    "            else:\n",
    "                if length != 0:\n",
    "                    length = lps[length - 1]\n",
    "                else:\n",
    "                    lps[i] = 0\n",
    "                    i += 1\n",
    "\n",
    "    M = len(pattern)\n",
    "    N = len(text)\n",
    "    lps = [0] * M\n",
    "    j = 0\n",
    "    compute_lps_array(pattern, M, lps)\n",
    "    i = 0\n",
    "    while i < N:\n",
    "        if pattern[j] == text[i]:\n",
    "            i += 1\n",
    "            j += 1\n",
    "        if j == M:\n",
    "            return i - j\n",
    "            j = lps[j - 1]\n",
    "        elif i < N and pattern[j] != text[i]:\n",
    "            if j != 0:\n",
    "                j = lps[j - 1]\n",
    "            else:\n",
    "                i += 1\n",
    "    return -1\n"
   ]
  },
  {
   "cell_type": "markdown",
   "metadata": {},
   "source": [
    "## Boyer-Moore Algorithm\n",
    "\n",
    "Boyer-Moore skips sections of the text to be searched, resulting in a lower number of operations than many other string algorithms in many cases. The main idea is that every time a mismatch occurs, the pattern itself determines how far it can be shifted."
   ]
  },
  {
   "cell_type": "code",
   "execution_count": 11,
   "metadata": {},
   "outputs": [],
   "source": [
    "# Boyer-Moore Algorithm\n",
    "def boyer_moore_search(text, pattern):\n",
    "    def preprocess_strong_suffix(shift, bpos, pattern, m):\n",
    "        i = m\n",
    "        j = m + 1\n",
    "        bpos[i] = j\n",
    "        while i > 0:\n",
    "            while j <= m and pattern[i - 1] != pattern[j - 1]:\n",
    "                if shift[j] == 0:\n",
    "                    shift[j] = j - i\n",
    "                j = bpos[j]\n",
    "            i -= 1\n",
    "            j -= 1\n",
    "            bpos[i] = j\n",
    "\n",
    "    def preprocess_case2(shift, bpos, pattern, m):\n",
    "        j = bpos[0]\n",
    "        for i in range(m + 1):\n",
    "            if shift[i] == 0:\n",
    "                shift[i] = j\n",
    "            if i == j:\n",
    "                j = bpos[j]\n",
    "\n",
    "    m = len(pattern)\n",
    "    n = len(text)\n",
    "    if m == 0:\n",
    "        return 0\n",
    "    shift = [0] * (m + 1)\n",
    "    bpos = [0] * (m + 1)\n",
    "    preprocess_strong_suffix(shift, bpos, pattern, m)\n",
    "    preprocess_case2(shift, bpos, pattern, m)\n",
    "    s = 0\n",
    "    while s <= n - m:\n",
    "        j = m - 1\n",
    "        while j >= 0 and pattern[j] == text[s + j]:\n",
    "            j -= 1\n",
    "        if j < 0:\n",
    "            return s\n",
    "            s += shift[0]\n",
    "        else:\n",
    "            s += shift[j + 1]\n",
    "\n",
    "    return -1\n"
   ]
  },
  {
   "cell_type": "markdown",
   "metadata": {},
   "source": [
    "## Rabin-Karp Algorithm\n",
    "\n",
    "Rabin-Karp uses hashing to find a pattern in text. For every substring of the text of the same length as the pattern, if the hash matches the hash of the pattern, a direct comparison is performed."
   ]
  },
  {
   "cell_type": "code",
   "execution_count": 12,
   "metadata": {},
   "outputs": [],
   "source": [
    "# Rabin-Karp Algorithm\n",
    "def rabin_karp_search(text, pattern):\n",
    "    m = len(pattern)\n",
    "    n = len(text)\n",
    "    pattern_hash = hash(pattern)\n",
    "    text_hash = hash(text[:m])\n",
    "    for i in range(0, n - m + 1):\n",
    "        if pattern_hash == text_hash and text[i:i + m] == pattern:\n",
    "            return i\n",
    "        if i < n - m:\n",
    "            text_hash = hash(text[i + 1:i + m + 1])\n",
    "    return -1\n"
   ]
  },
  {
   "cell_type": "code",
   "execution_count": 13,
   "metadata": {},
   "outputs": [
    {
     "data": {
      "text/plain": [
       "(7, 7, 7)"
      ]
     },
     "execution_count": 13,
     "metadata": {},
     "output_type": "execute_result"
    }
   ],
   "source": [
    "# Demonstration\n",
    "text = \"thisisateststringforalgorithms\"\n",
    "pattern = \"test\"\n",
    "kmp_result = kmp_search(text, pattern)\n",
    "boyer_moore_result = boyer_moore_search(text, pattern)\n",
    "rabin_karp_result = rabin_karp_search(text, pattern)\n",
    "\n",
    "kmp_result, boyer_moore_result, rabin_karp_result\n"
   ]
  },
  {
   "cell_type": "markdown",
   "metadata": {},
   "source": [
    "- KMP is efficient because it avoids unnecessary comparisons by using the LPS (Longest Prefix Suffix) array.\n",
    "- Boyer-Moore can skip multiple characters at once, making it faster in many scenarios.\n",
    "- Rabin-Karp uses hashing, making it efficient for multiple pattern searches, but there's a possibility of hash collisions."
   ]
  },
  {
   "cell_type": "markdown",
   "metadata": {},
   "source": [
    "The core idea behind the Rabin-Karp algorithm is to compute a hash value for the pattern and then for the substring of the text of the same length. If the hash values match, we compare the substring and the pattern directly.\n",
    "\n",
    "To make the algorithm efficient, we employ the sliding window technique. This means that, instead of recomputing the hash from scratch for each substring, we \"slide\" over the text one character at a time, updating the hash value incrementally.\n",
    "\n",
    "To prevent hash values from growing too large, we'll use modular arithmetic. This means we'll compute hash values modulo a prime number to ensure they remain within a reasonable size."
   ]
  },
  {
   "cell_type": "code",
   "execution_count": 19,
   "metadata": {},
   "outputs": [],
   "source": [
    "def rabin_karp_with_modular(text, pattern):\n",
    "    # Define parameters\n",
    "    d = 256  # Number of characters in the input alphabet (assuming ASCII)\n",
    "    q = 101  # A prime number for modulus operation\n",
    "    M = len(pattern)\n",
    "    N = len(text)\n",
    "    p = 0  # Hash value for pattern\n",
    "    t = 0  # Hash value for text\n",
    "    h = 1\n",
    "    \n",
    "    # The value of h would be \"pow(d, M-1) % q\"\n",
    "    for i in range(M-1):\n",
    "        h = (h * d) % q\n",
    "\n",
    "    # Calculate the hash value of pattern and first window of text\n",
    "    for i in range(M):\n",
    "        p = (d * p + ord(pattern[i])) % q\n",
    "        t = (d * t + ord(text[i])) % q\n",
    "\n",
    "    # Slide the pattern over text one by one\n",
    "    for i in range(N - M + 1):\n",
    "        # Check the hash values of current window of text and pattern\n",
    "        if p == t:\n",
    "            # If the hash values match, check for characters one by one\n",
    "            for j in range(M):\n",
    "                if text[i + j] != pattern[j]:\n",
    "                    break\n",
    "            j += 1\n",
    "            # If p == t and pattern[0...M-1] = text[i, i+1, ...i+M-1]\n",
    "            if j == M:\n",
    "                return i\n",
    "\n",
    "        # Calculate hash value for next window of text\n",
    "        if i < N - M:\n",
    "            t = (d * (t - ord(text[i]) * h) + ord(text[i + M])) % q\n",
    "\n",
    "            # We might get negative value of t, converting it to positive\n",
    "            if t < 0:\n",
    "                t = t + q\n",
    "\n",
    "    return -1\n"
   ]
  },
  {
   "cell_type": "code",
   "execution_count": 20,
   "metadata": {},
   "outputs": [
    {
     "data": {
      "text/plain": [
       "20"
      ]
     },
     "execution_count": 20,
     "metadata": {},
     "output_type": "execute_result"
    }
   ],
   "source": [
    "# Demonstration\n",
    "text = \"thisisateststringforrabin_karp\"\n",
    "pattern = \"rabin\"\n",
    "result = rabin_karp_with_modular(text, pattern)\n",
    "\n",
    "result\n"
   ]
  },
  {
   "cell_type": "markdown",
   "metadata": {},
   "source": [
    "## Regular expressions"
   ]
  },
  {
   "cell_type": "code",
   "execution_count": 2,
   "metadata": {},
   "outputs": [
    {
     "data": {
      "text/plain": [
       "{'123': False, 'abc': True, 'abc123': False, 'čšž': True, '': True}"
      ]
     },
     "execution_count": 2,
     "metadata": {},
     "output_type": "execute_result"
    }
   ],
   "source": [
    "import re\n",
    "\n",
    "# regularni izraz za črke\n",
    "test_letters = [\"123\", \"abc\", \"abc123\", \"čšž\", \"\"]\n",
    "results = {word: bool(re.match(r\"^[a-zA-ZčšžČŠŽ]*$\", word)) for word in test_letters}\n",
    "results"
   ]
  },
  {
   "cell_type": "code",
   "execution_count": 19,
   "metadata": {},
   "outputs": [
    {
     "data": {
      "text/plain": [
       "{'123': True, 'abc': False, '123.4': True, '13e-3': True}"
      ]
     },
     "execution_count": 19,
     "metadata": {},
     "output_type": "execute_result"
    }
   ],
   "source": [
    "# regularni izraz za števila\n",
    "test_numbers = [\"123\", \"abc\", \"123.4\", \"13e-3\"]\n",
    "results = {number: bool(re.match(r\"^[0-9.e-]*$\", number)) for number in test_numbers}\n",
    "results"
   ]
  },
  {
   "cell_type": "markdown",
   "metadata": {},
   "source": [
    "To check if a string is a valid email, we can use a regular expression pattern that captures common characteristics of email addresses. Here's a basic approach using the re library:\n",
    "\n",
    "- Start with the local part which can contain alphanumeric characters, dots, hyphens, and underscores.\n",
    "- Followed by the @ symbol.\n",
    "- Then the domain part which can contain alphanumeric characters, hyphens, and dots.\n",
    "- The domain part must end with a dot followed by a valid top-level domain (like \"com\", \"org\", \"net\", etc.), typically 2-6 characters long."
   ]
  },
  {
   "cell_type": "code",
   "execution_count": 20,
   "metadata": {},
   "outputs": [],
   "source": [
    "def is_valid_email(email):\n",
    "    # Regular expression pattern for a basic email validation\n",
    "    pattern = r\"^[a-zA-Z0-9._-]+@[a-zA-Z0-9.-]+\\.[a-zA-Z]{2,6}$\"\n",
    "    return bool(re.match(pattern, email))\n",
    "\n"
   ]
  },
  {
   "cell_type": "code",
   "execution_count": 21,
   "metadata": {},
   "outputs": [
    {
     "data": {
      "text/plain": [
       "{'example@email.com': True,\n",
       " 'invalid-email': False,\n",
       " 'another.example@domain.org': True,\n",
       " 'test@.com': False}"
      ]
     },
     "execution_count": 21,
     "metadata": {},
     "output_type": "execute_result"
    }
   ],
   "source": [
    "# Test the function\n",
    "test_emails = [\"example@email.com\", \"invalid-email\", \"another.example@domain.org\", \"test@.com\"]\n",
    "results = {email: is_valid_email(email) for email in test_emails}\n",
    "\n",
    "results\n"
   ]
  },
  {
   "cell_type": "markdown",
   "metadata": {},
   "source": [
    "To check if a string is a valid URL, we can use a regular expression pattern that captures common characteristics of URLs. Here's a basic approach using the re library:\n",
    "\n",
    "- Start with the scheme part, commonly http, https, ftp, etc.\n",
    "- Followed by ://.\n",
    "- Then an optional www. prefix.\n",
    "- Next, the domain name which can contain alphanumeric characters, hyphens, and dots.\n",
    "- Optionally, a port number prefixed by a colon.\n",
    "- A path, which can have slashes, alphanumeric characters, hyphens, dots, etc.\n",
    "- Optionally, a query string starting with ? and containing key-value pairs separated by &.\n",
    "- Optionally, a fragment starting with #."
   ]
  },
  {
   "cell_type": "code",
   "execution_count": 22,
   "metadata": {},
   "outputs": [],
   "source": [
    "def is_valid_url(url):\n",
    "    # Regular expression pattern for a basic URL validation\n",
    "    pattern = r'^(https?|ftp):\\/\\/'  # scheme\n",
    "    pattern += r'(?:(?:[A-Z0-9](?:[A-Z0-9-]{0,61}[A-Z0-9])?\\.)+[A-Z]{2,6}\\.?|'  # domain\n",
    "    pattern += r'localhost|'  # localhost\n",
    "    pattern += r'\\d{1,3}\\.\\d{1,3}\\.\\d{1,3}\\.\\d{1,3})'  # OR ip\n",
    "    pattern += r'(?::\\d+)?'  # port\n",
    "    pattern += r'(?:/?|[/?]\\S+)$'  # path\n",
    "    return bool(re.match(pattern, url, re.IGNORECASE))\n",
    "\n"
   ]
  },
  {
   "cell_type": "code",
   "execution_count": 23,
   "metadata": {},
   "outputs": [
    {
     "data": {
      "text/plain": [
       "{'https://www.example.com': True,\n",
       " 'ftp://files.example.com/download/': True,\n",
       " 'http:/invalid-url.com': False,\n",
       " 'https://localhost:8000/path/to/page?query=value&another=value#fragment': True}"
      ]
     },
     "execution_count": 23,
     "metadata": {},
     "output_type": "execute_result"
    }
   ],
   "source": [
    "# Test the function\n",
    "test_urls = [\n",
    "    \"https://www.example.com\",\n",
    "    \"ftp://files.example.com/download/\",\n",
    "    \"http:/invalid-url.com\",\n",
    "    \"https://localhost:8000/path/to/page?query=value&another=value#fragment\"\n",
    "]\n",
    "results = {url: is_valid_url(url) for url in test_urls}\n",
    "\n",
    "results\n"
   ]
  },
  {
   "cell_type": "code",
   "execution_count": 24,
   "metadata": {},
   "outputs": [
    {
     "data": {
      "text/plain": [
       "{'1234567890123': True,\n",
       " '12345678901234': False,\n",
       " '12345678901': False,\n",
       " '123456789012a': False,\n",
       " ' 1234567890123': False,\n",
       " '1234567890123 ': False}"
      ]
     },
     "execution_count": 24,
     "metadata": {},
     "output_type": "execute_result"
    }
   ],
   "source": [
    "def test_13_digits(s):\n",
    "    pattern = re.compile(r'^\\d{13}$')\n",
    "    return bool(pattern.match(s))\n",
    "\n",
    "# Test cases\n",
    "test_strings = [\n",
    "    \"1234567890123\",    # 13 digits\n",
    "    \"12345678901234\",   # 14 digits\n",
    "    \"12345678901\",      # 11 digits\n",
    "    \"123456789012a\",    # 13 characters, but last one is not a digit\n",
    "    \" 1234567890123\",   # 14 characters, starts with a space\n",
    "    \"1234567890123 \"    # 14 characters, ends with a space\n",
    "]\n",
    "\n",
    "# Apply the test function to each string\n",
    "results = {s: test_13_digits(s) for s in test_strings}\n",
    "results\n"
   ]
  },
  {
   "cell_type": "code",
   "execution_count": 25,
   "metadata": {},
   "outputs": [
    {
     "data": {
      "text/plain": [
       "{'1212000501234': True,\n",
       " '1201999505037': True,\n",
       " '1234567890125': False,\n",
       " '1234567890126': False,\n",
       " '1234567890127': False,\n",
       " '1512961500073': True}"
      ]
     },
     "execution_count": 25,
     "metadata": {},
     "output_type": "execute_result"
    }
   ],
   "source": [
    "def test_EMSO(s):\n",
    "    pattern = re.compile(r'^[0-3]\\d[01]\\d[09]\\d\\d[5][0]\\d{4}$')\n",
    "    #                    r\"^[0-3][0-9][01][0-9]{3}[5-9][0-9]{2}[0-1][0-9][0-9][0-9]$\"\n",
    "    return bool(pattern.match(s))\n",
    "\n",
    "# Test cases\n",
    "test_strings = [\n",
    "    \"1212000501234\",   # \n",
    "    \"1201999505037\",   # \n",
    "    \"1234567890125\",   # \n",
    "    \"1234567890126\",   # \n",
    "    \"1234567890127\",   # \n",
    "    \"1512961500073\"    # \n",
    "]\n",
    "\n",
    "# Apply the test function to each string\n",
    "results = {s: test_EMSO(s) for s in test_strings}\n",
    "results"
   ]
  },
  {
   "cell_type": "code",
   "execution_count": 26,
   "metadata": {},
   "outputs": [
    {
     "data": {
      "text/plain": [
       "{'0101006500006': True,\n",
       " '0112996505555': True,\n",
       " '0101006505555': True,\n",
       " '0101006500007': True,\n",
       " '01010065055555': False,\n",
       " 'ABCDEF6500006': False,\n",
       " '1512961500073': True}"
      ]
     },
     "execution_count": 26,
     "metadata": {},
     "output_type": "execute_result"
    }
   ],
   "source": [
    "from datetime import datetime\n",
    "\n",
    "def validate_emso(emso):\n",
    "    # Step 1: Check if the string has exactly 13 digits\n",
    "    if not re.match(r\"^\\d{13}$\", emso):\n",
    "        return False\n",
    "    \n",
    "    # Step 2: Extract the date parts and validate the date\n",
    "    day, month, year = int(emso[:2]), int(emso[2:4]), int(emso[4:7])\n",
    "    # print(emso)\n",
    "    # print(day, month, year)\n",
    "    \n",
    "    # Handle years in both centuries (1900 and 2000)\n",
    "    year += 2000 if year < 900 else 1000\n",
    "    # print(day, month, year)\n",
    "    \n",
    "    try:\n",
    "        datetime(year, month, day)\n",
    "    except ValueError:\n",
    "        return False\n",
    "    \n",
    "    # Step 3: Check the gender digit\n",
    "    \n",
    "    # Step 4: Calculate and validate the control digit\n",
    "    control_digit = int(emso[12])\n",
    "    \n",
    "    # if sum(int(digit) for digit in emso[:12]) % 11 != control_digit:\n",
    "    #     return False\n",
    "    \n",
    "    return True\n",
    "\n",
    "# Test cases\n",
    "test_emso_numbers = [\n",
    "    \"0101006500006\",  # Valid EMSO number\n",
    "    \"0112996505555\",  # Invalid date\n",
    "    \"0101006505555\",  # Invalid checksum and control digit\n",
    "    \"0101006500007\",  # Invalid control digit\n",
    "    \"01010065055555\", # Too many digits\n",
    "    \"ABCDEF6500006\",  # Contains letters\n",
    "    \"1512961500073\",  # ;-)\n",
    "]\n",
    "\n",
    "# Apply the validation function to each EMSO number\n",
    "results = {emso: validate_emso(emso) for emso in test_emso_numbers}\n",
    "results\n"
   ]
  },
  {
   "cell_type": "code",
   "execution_count": null,
   "metadata": {},
   "outputs": [],
   "source": []
  },
  {
   "cell_type": "code",
   "execution_count": 11,
   "metadata": {},
   "outputs": [
    {
     "data": {
      "text/plain": [
       "{'0000000500000': False,\n",
       " '0101001500070': True,\n",
       " '1508961505010': True,\n",
       " '3002999506010': True,\n",
       " '3112000500010': True,\n",
       " '3310005507010': False,\n",
       " '1513123501010': False,\n",
       " '1709123502010': True,\n",
       " '0806992602010': True,\n",
       " '6397265046840': False}"
      ]
     },
     "execution_count": 11,
     "metadata": {},
     "output_type": "execute_result"
    }
   ],
   "source": [
    "def test_QT_EMSO(s):\n",
    "    pattern = re.compile(r'^(0[1-9]|[12][0-9]|3[01])(0[1-9]|1[0-2])(\\d{2})(\\d{3}[A-Z]?)') # Andraz\n",
    "    # pattern = re.compile(r'^[0-3][0-9][01][0-9]\\d{3}[5-9]0\\d{3}\\d$') #  ^[0-3][0-9][01][0-9]{3}[5-9][0-9]{2}[0-1][0-9][0-9][0-9]$) # Andrej060\n",
    "    # pattern = re.compile(r'^[01][1-9](0[1-9]|1[0-2])([0-2][0-9]|3[0-1])\\d{3}$') #Aleksander\n",
    "    return bool(pattern.match(s))\n",
    "\n",
    "# Test cases\n",
    "test_strings = [\n",
    "    \"0000000500000\",   # dan, mesec\n",
    "    \"0101001500070\",   # OK\n",
    "    \"1508961505010\",   # OK\n",
    "    \"3002999506010\",   # februar\n",
    "    \"3112000500010\",   # OK\n",
    "    \"3310005507010\",   # dan\n",
    "    \"1513123501010\",   # mesec\n",
    "    \"1709123502010\",   # leto\n",
    "    \"0806992602010\",   # 60\n",
    "    \"6397265046840\"    # random\n",
    "]\n",
    "\n",
    "# Apply the test function to each string\n",
    "results = {s: test_QT_EMSO(s) for s in test_strings}\n",
    "results"
   ]
  },
  {
   "cell_type": "code",
   "execution_count": null,
   "metadata": {},
   "outputs": [],
   "source": []
  },
  {
   "cell_type": "markdown",
   "metadata": {},
   "source": [
    "## String compression\n",
    "\n",
    "Run-Length Encoding (RLE) is a basic form of lossless data compression in which runs of data are stored as a single data value and count. For strings, this typically involves representing consecutive repeated characters as a single character followed by the number of repetitions."
   ]
  },
  {
   "cell_type": "code",
   "execution_count": 12,
   "metadata": {},
   "outputs": [],
   "source": [
    "def rle_encode(s):\n",
    "    if not s:\n",
    "        return \"\"\n",
    "\n",
    "    encoding = []\n",
    "    count = 1\n",
    "\n",
    "    for i in range(1, len(s)):\n",
    "        if s[i] == s[i-1]:\n",
    "            count += 1\n",
    "        else:\n",
    "            encoding.append(str(count) + s[i-1])\n",
    "            count = 1\n",
    "\n",
    "    encoding.append(str(count) + s[-1])\n",
    "    return ''.join(encoding)\n",
    "\n",
    "\n",
    "def rle_decode(s):\n",
    "    if not s:\n",
    "        return \"\"\n",
    "\n",
    "    decoding = []\n",
    "    num = \"\"\n",
    "\n",
    "    for char in s:\n",
    "        if char.isdigit():\n",
    "            num += char\n",
    "        else:\n",
    "            decoding.append(char * int(num))\n",
    "            num = \"\"\n",
    "\n",
    "    return ''.join(decoding)\n"
   ]
  },
  {
   "cell_type": "code",
   "execution_count": 13,
   "metadata": {},
   "outputs": [
    {
     "data": {
      "text/plain": [
       "('AAABBBCCDAAAAACCCCCC', '3A3B2C1D5A6C', 'AAABBBCCDAAAAACCCCCC')"
      ]
     },
     "execution_count": 13,
     "metadata": {},
     "output_type": "execute_result"
    }
   ],
   "source": [
    "# Test the functions\n",
    "test_string = \"AAABBBCCDAAAAACCCCCC\"\n",
    "encoded = rle_encode(test_string)\n",
    "decoded = rle_decode(encoded)\n",
    "\n",
    "test_string, encoded, decoded\n"
   ]
  },
  {
   "cell_type": "markdown",
   "metadata": {},
   "source": [
    "## Huffman coding \n",
    "\n",
    "is a popular method for lossless data compression. The basic idea is to encode frequently-occurring characters with shorter codes and less frequent characters with longer codes. The Huffman algorithm uses a priority queue (or a sorted list) of nodes based on character frequency, and then it builds the Huffman Tree, from which the Huffman codes are derived.\n",
    "\n",
    "- Create a frequency dictionary from the input string.\n",
    "- Build the Huffman Tree.\n",
    "- Build the Huffman code table.\n",
    "- Encode the input string.\n",
    "- Decode the encoded data."
   ]
  },
  {
   "cell_type": "code",
   "execution_count": 14,
   "metadata": {},
   "outputs": [],
   "source": [
    "import heapq\n",
    "from collections import defaultdict, Counter\n",
    "\n",
    "class Node:\n",
    "    def __init__(self, char, freq):\n",
    "        self.char = char\n",
    "        self.freq = freq\n",
    "        self.left = None\n",
    "        self.right = None\n",
    "\n",
    "    def __lt__(self, other):\n",
    "        return self.freq < other.freq\n",
    "\n",
    "\n",
    "def build_huffman_tree(s):\n",
    "    frequency = dict(Counter(s))\n",
    "    priority_queue = [Node(char, freq) for char, freq in frequency.items()]\n",
    "    heapq.heapify(priority_queue)\n",
    "\n",
    "    while len(priority_queue) > 1:\n",
    "        left = heapq.heappop(priority_queue)\n",
    "        right = heapq.heappop(priority_queue)\n",
    "\n",
    "        merged = Node(None, left.freq + right.freq)\n",
    "        merged.left = left\n",
    "        merged.right = right\n",
    "\n",
    "        heapq.heappush(priority_queue, merged)\n",
    "\n",
    "    return priority_queue[0]\n",
    "\n",
    "\n",
    "def build_huffman_codes(root):\n",
    "    codes = {}\n",
    "\n",
    "    def build_codes_recursive(node, current_code):\n",
    "        if node is None:\n",
    "            return\n",
    "\n",
    "        if node.char is not None:\n",
    "            codes[node.char] = current_code\n",
    "            return\n",
    "\n",
    "        build_codes_recursive(node.left, current_code + \"0\")\n",
    "        build_codes_recursive(node.right, current_code + \"1\")\n",
    "\n",
    "    build_codes_recursive(root, \"\")\n",
    "    return codes\n",
    "\n",
    "\n",
    "def huffman_encode(s):\n",
    "    root = build_huffman_tree(s)\n",
    "    huffman_code = build_huffman_codes(root)\n",
    "\n",
    "    encoded = ''.join([huffman_code[char] for char in s])\n",
    "    return encoded, root\n",
    "\n",
    "\n",
    "def huffman_decode(encoded, root):\n",
    "    decoded = []\n",
    "    current = root\n",
    "\n",
    "    for bit in encoded:\n",
    "        if bit == '0':\n",
    "            current = current.left\n",
    "        else:\n",
    "            current = current.right\n",
    "\n",
    "        if current.char:\n",
    "            decoded.append(current.char)\n",
    "            current = root\n",
    "\n",
    "    return ''.join(decoded)\n"
   ]
  },
  {
   "cell_type": "code",
   "execution_count": 15,
   "metadata": {},
   "outputs": [
    {
     "data": {
      "text/plain": [
       "('BCCABBDDAEAFAAAAAACCCCCCCCCC',\n",
       " '100001110010010101010111011111101101111111111110000000000',\n",
       " 'BCCABBDDAEAFAAAAAACCCCCCCCCC')"
      ]
     },
     "execution_count": 15,
     "metadata": {},
     "output_type": "execute_result"
    }
   ],
   "source": [
    "# Test the Huffman encoding and decoding\n",
    "test_string = \"BCCABBDDAEAFAAAAAACCCCCCCCCC\"\n",
    "encoded_data, tree_root = huffman_encode(test_string)\n",
    "decoded_data = huffman_decode(encoded_data, tree_root)\n",
    "\n",
    "test_string, encoded_data, decoded_data\n"
   ]
  },
  {
   "cell_type": "code",
   "execution_count": 16,
   "metadata": {},
   "outputs": [
    {
     "name": "stdout",
     "output_type": "stream",
     "text": [
      "Huffman Tree:\n",
      "[] 28\n",
      "  [0] C\n",
      "  [1] 16\n",
      "    [0] 7\n",
      "      [0] B\n",
      "      [1] 4\n",
      "        [0] D\n",
      "        [1] 2\n",
      "          [0] F\n",
      "          [1] E\n",
      "    [1] A\n",
      "\n",
      "Huffman Codes:\n",
      "C: 0\n",
      "B: 100\n",
      "D: 1010\n",
      "F: 10110\n",
      "E: 10111\n",
      "A: 11\n"
     ]
    }
   ],
   "source": [
    "def print_huffman_tree(root, level=0, prefix=\"\"):\n",
    "    \"\"\"Recursively print the Huffman tree.\"\"\"\n",
    "    if not root:\n",
    "        return\n",
    "\n",
    "    # If it's a leaf, print the character\n",
    "    if root.char:\n",
    "        print(f\"{' ' * (level * 2)}[{prefix}] {root.char}\")\n",
    "    else:\n",
    "        # If it's an internal node, print its frequency\n",
    "        print(f\"{' ' * (level * 2)}[{prefix}] {root.freq}\")\n",
    "\n",
    "    # Recursive calls for the left and right children\n",
    "    print_huffman_tree(root.left, level + 1, \"0\")\n",
    "    print_huffman_tree(root.right, level + 1, \"1\")\n",
    "\n",
    "\n",
    "# Display the Huffman tree and Huffman codes\n",
    "huffman_codes = build_huffman_codes(tree_root)\n",
    "print(\"Huffman Tree:\")\n",
    "print_huffman_tree(tree_root)\n",
    "print(\"\\nHuffman Codes:\")\n",
    "for char, code in huffman_codes.items():\n",
    "    print(f\"{char}: {code}\")\n"
   ]
  },
  {
   "cell_type": "markdown",
   "metadata": {},
   "source": [
    "While both Huffman coding and Morse code use variable-length codes to represent characters, their purposes and methodologies differ. Huffman coding is a method of data compression, while Morse code is a telecommunication encoding scheme. However, both can be visualized using binary trees, and both have historical significance in their respective fields."
   ]
  },
  {
   "cell_type": "markdown",
   "metadata": {},
   "source": [
    "## LZW (Lempel-Ziv-Welch)\n",
    "\n",
    "is a universal lossless data compression algorithm. It's based on the idea of replacing repeated occurrences of data with references to a dictionary.\n",
    "\n",
    "Compression:\n",
    "\n",
    "- Initialize the dictionary with all possible characters.\n",
    "- Search for the longest string W in the dictionary that matches the current input.\n",
    "- Emit the dictionary index for W.\n",
    "- Add W followed by the next symbol in the input to the dictionary.\n",
    "- Start the next cycle with the symbol just read.\n",
    "\n",
    "Decompression:\n",
    "\n",
    "- Initialize the dictionary with all possible characters.\n",
    "- Read one value from the compressed input and output the corresponding string from the dictionary.\n",
    "- Read the next value and do the following:\n",
    "- Find the corresponding string for this value.\n",
    "- Output the string.\n",
    "- Add the string from the last value followed by the first character of the current string to the dictionary.\n",
    "- Continue with the next value."
   ]
  },
  {
   "cell_type": "code",
   "execution_count": 17,
   "metadata": {},
   "outputs": [],
   "source": [
    "def lzw_compress(s):\n",
    "    \"\"\"Compress a string using LZW algorithm and return compressed string and dictionary.\"\"\"\n",
    "    # Initialize the dictionary with individual characters\n",
    "    dictionary = {chr(i): i for i in range(256)}\n",
    "    current_string = \"\"\n",
    "    compressed = []\n",
    "    # print(compressed)\n",
    "\n",
    "    for char in s:\n",
    "        combined = current_string + char\n",
    "        if combined in dictionary:\n",
    "            current_string = combined\n",
    "        else:\n",
    "            compressed.append(dictionary[current_string])\n",
    "            dictionary[combined] = len(dictionary)\n",
    "            current_string = char\n",
    "        # print(char, 'combined: ', combined, 'current: ', current_string, 'compressed: ', compressed)\n",
    "\n",
    "    if current_string:\n",
    "        compressed.append(dictionary[current_string])\n",
    "    # print(compressed)\n",
    "    # print()\n",
    "\n",
    "    return compressed, dictionary\n"
   ]
  },
  {
   "cell_type": "code",
   "execution_count": 18,
   "metadata": {},
   "outputs": [],
   "source": [
    "def lzw_decompress(compressed):\n",
    "    \"\"\"Decompress a list of output ks to a string.\"\"\"\n",
    "    # Initialize the dictionary with individual characters\n",
    "    dictionary = {i: chr(i) for i in range(256)}\n",
    "    current_string = dictionary[compressed[0]]\n",
    "    decompressed = [current_string]\n",
    "    # print(decompressed)\n",
    "\n",
    "    for k in compressed[1:]:\n",
    "        if k in dictionary:\n",
    "            entry = dictionary[k]\n",
    "        elif k == len(dictionary):\n",
    "            entry = current_string + current_string[0]\n",
    "        else:\n",
    "            raise ValueError(\"Invalid compressed data\")\n",
    "\n",
    "        decompressed.append(entry)\n",
    "        dictionary[len(dictionary)] = current_string + entry[0]\n",
    "        current_string = entry\n",
    "        # print(k, entry, len(dictionary)-1, list(dictionary.keys())[len(dictionary)-1], list(dictionary.values())[len(dictionary)-1])\n",
    "        # print(decompressed)\n",
    "        # print()\n",
    "\n",
    "    return ''.join(decompressed)\n"
   ]
  },
  {
   "cell_type": "code",
   "execution_count": 19,
   "metadata": {},
   "outputs": [
    {
     "data": {
      "text/plain": [
       "('ABABABABACCCCCCAAAAAA',\n",
       " [65, 66, 256, 258, 257, 67, 261, 262, 65, 264, 265],\n",
       " 'ABABABABACCCCCCAAAAAA')"
      ]
     },
     "execution_count": 19,
     "metadata": {},
     "output_type": "execute_result"
    }
   ],
   "source": [
    "# Test the LZW compression and decompression\n",
    "test_string = \"ABABABABACCCCCCAAAAAA\"\n",
    "# test_string = \"Testiranje ja sestavljeno iz vec zaporednih testov in testov in testov\"\n",
    "compressed_data, lzw_dict = lzw_compress(test_string)\n",
    "decompressed_data = lzw_decompress(compressed_data)\n",
    "\n",
    "test_string, compressed_data, decompressed_data\n"
   ]
  },
  {
   "cell_type": "code",
   "execution_count": 26,
   "metadata": {},
   "outputs": [
    {
     "data": {
      "text/plain": [
       "[('AB', 256),\n",
       " ('BA', 257),\n",
       " ('ABA', 258),\n",
       " ('ABAB', 259),\n",
       " ('BAC', 260),\n",
       " ('CC', 261),\n",
       " ('CCC', 262),\n",
       " ('CCCA', 263),\n",
       " ('AA', 264),\n",
       " ('AAA', 265)]"
      ]
     },
     "execution_count": 26,
     "metadata": {},
     "output_type": "execute_result"
    }
   ],
   "source": [
    "# Convert the dictionary to a list of tuples and sort by value for visualization\n",
    "sorted_lzw_dict = sorted(lzw_dict.items(), key=lambda x: x[1])\n",
    "\n",
    "sorted_lzw_dict[256:]"
   ]
  },
  {
   "cell_type": "code",
   "execution_count": 27,
   "metadata": {},
   "outputs": [
    {
     "data": {
      "text/plain": [
       "[(' ', 32),\n",
       " ('!', 33),\n",
       " ('\"', 34),\n",
       " ('#', 35),\n",
       " ('$', 36),\n",
       " ('%', 37),\n",
       " ('&', 38),\n",
       " (\"'\", 39),\n",
       " ('(', 40),\n",
       " (')', 41),\n",
       " ('*', 42),\n",
       " ('+', 43),\n",
       " (',', 44),\n",
       " ('-', 45),\n",
       " ('.', 46),\n",
       " ('/', 47),\n",
       " ('0', 48),\n",
       " ('1', 49),\n",
       " ('2', 50),\n",
       " ('3', 51),\n",
       " ('4', 52),\n",
       " ('5', 53),\n",
       " ('6', 54),\n",
       " ('7', 55),\n",
       " ('8', 56),\n",
       " ('9', 57),\n",
       " (':', 58),\n",
       " (';', 59),\n",
       " ('<', 60),\n",
       " ('=', 61),\n",
       " ('>', 62),\n",
       " ('?', 63),\n",
       " ('@', 64),\n",
       " ('A', 65),\n",
       " ('B', 66)]"
      ]
     },
     "execution_count": 27,
     "metadata": {},
     "output_type": "execute_result"
    }
   ],
   "source": [
    "sorted_lzw_dict[32:67]\n"
   ]
  },
  {
   "cell_type": "code",
   "execution_count": null,
   "metadata": {},
   "outputs": [],
   "source": []
  }
 ],
 "metadata": {
  "kernelspec": {
   "display_name": "venv",
   "language": "python",
   "name": "python3"
  },
  "language_info": {
   "codemirror_mode": {
    "name": "ipython",
    "version": 3
   },
   "file_extension": ".py",
   "mimetype": "text/x-python",
   "name": "python",
   "nbconvert_exporter": "python",
   "pygments_lexer": "ipython3",
   "version": "3.7.9"
  }
 },
 "nbformat": 4,
 "nbformat_minor": 2
}
