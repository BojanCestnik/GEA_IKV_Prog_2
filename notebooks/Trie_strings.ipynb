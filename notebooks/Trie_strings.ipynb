{
 "cells": [
  {
   "cell_type": "markdown",
   "metadata": {},
   "source": [
    "# Trie class for searching strings"
   ]
  },
  {
   "cell_type": "markdown",
   "metadata": {},
   "source": [
    "A Trie, also known as a prefix tree, is a specialized tree used to store associative data structures. A Trie for strings is a tree where each node represents a single character of a string. This structure is particularly efficient for solving problems related to strings, such as autocomplete systems, spell checkers, and prefix searches, because it can provide fast retrieval of strings with common prefixes.\n",
    "\n",
    "Here's how a Trie works for strings:\n",
    "\n",
    "The root of the Trie is an empty character.\n",
    "Each node consists of a set of children, each labeled with a character that can follow the string represented by the node.\n",
    "The end of a particular word is usually marked with a special flag, indicating that a complete word terminates there."
   ]
  },
  {
   "cell_type": "code",
   "execution_count": null,
   "metadata": {},
   "outputs": [],
   "source": [
    "from graphviz import Digraph\n",
    "\n",
    "class TrieNode:\n",
    "    def __init__(self):\n",
    "        self.children = {}\n",
    "        self.is_end_of_word = False\n",
    "\n",
    "class Trie:\n",
    "    def __init__(self):\n",
    "        self.root = TrieNode()\n",
    "    \n",
    "    def insert(self, word):\n",
    "        node = self.root\n",
    "        for char in word:\n",
    "            if char not in node.children:\n",
    "                node.children[char] = TrieNode()\n",
    "            node = node.children[char]\n",
    "        node.is_end_of_word = True\n",
    "    \n",
    "    def search(self, word):\n",
    "        node = self.root\n",
    "        for char in word:\n",
    "            if char not in node.children:\n",
    "                return False\n",
    "            node = node.children[char]\n",
    "        return node.is_end_of_word\n",
    "    \n",
    "    def starts_with(self, prefix):\n",
    "        node = self.root\n",
    "        for char in prefix:\n",
    "            if char not in node.children:\n",
    "                return False\n",
    "            node = node.children[char]\n",
    "        return True\n",
    "\n",
    "    def ends_with(self, suffix):\n",
    "        for word in self.iterate_words(self.root, \"\"):\n",
    "            if word.endswith(suffix):\n",
    "                return True\n",
    "        return False\n",
    "\n",
    "    def search_substring(self, substring):\n",
    "        def search_from_node(node, sub):\n",
    "            for char in sub:\n",
    "                if char not in node.children:\n",
    "                    return False\n",
    "                node = node.children[char]\n",
    "            return True\n",
    "        \n",
    "        for word in self.iterate_words(self.root, \"\"):\n",
    "            if substring in word:\n",
    "                return True\n",
    "        return False\n",
    "\n",
    "    def find_endings(self, prefix):\n",
    "        node = self.root\n",
    "        endings = []\n",
    "\n",
    "        # Find the node corresponding to the last character of the prefix\n",
    "        for char in prefix:\n",
    "            if char not in node.children:\n",
    "                return endings  # Prefix not found\n",
    "            node = node.children[char]\n",
    "        \n",
    "        # Helper function to recursively find all endings\n",
    "        def _find_endings(node, current_word):\n",
    "            if node.is_end_of_word:\n",
    "                endings.append(current_word)\n",
    "            for char, next_node in node.children.items():\n",
    "                _find_endings(next_node, current_word + char)\n",
    "        \n",
    "        # Start the recursive search from the current node\n",
    "        _find_endings(node, \"\")\n",
    "\n",
    "        return endings\n",
    "\n",
    "    def iterate_words(self, node, prefix):\n",
    "        if node.is_end_of_word:\n",
    "            yield prefix\n",
    "        for char, next_node in node.children.items():\n",
    "            yield from self.iterate_words(next_node, prefix + char)\n",
    "\n",
    "    def display(self, node=None, level=0):\n",
    "        if node is None:\n",
    "            node = self.root\n",
    "        if node.is_end_of_word:\n",
    "            print((' ' * level) + '⟶')\n",
    "        for char, child in node.children.items():\n",
    "            print((' ' * level) + char)\n",
    "            self.display(child, level + 1)\n",
    "\n",
    "    def draw_tree(self):\n",
    "        dot = Digraph(comment='The Trie Structure')\n",
    "        self._add_nodes(dot, self.root, \"\")\n",
    "        return dot\n",
    "\n",
    "    def _add_nodes(self, dot, node, current_prefix):\n",
    "        # Invisible root node to align children\n",
    "        if current_prefix == \"\":\n",
    "            dot.node(current_prefix, label=\"\", style='invis')\n",
    "\n",
    "        for char, child in node.children.items():\n",
    "            child_prefix = current_prefix + char\n",
    "            dot.node(child_prefix, label=char)\n",
    "            dot.edge(current_prefix, child_prefix)\n",
    "            if child.is_end_of_word:\n",
    "                dot.node(child_prefix + \"_end\", label=\"⟶\", shape=\"plaintext\")\n",
    "                dot.edge(child_prefix, child_prefix + \"_end\")\n",
    "            self._add_nodes(dot, child, child_prefix)\n",
    "\n"
   ]
  },
  {
   "cell_type": "code",
   "execution_count": null,
   "metadata": {},
   "outputs": [],
   "source": [
    "# Example usage:\n",
    "trie = Trie()\n",
    "trie.insert(\"help\")\n",
    "trie.insert(\"helium\")\n",
    "trie.insert(\"hamster\")\n",
    "trie.insert(\"ham\")\n",
    "trie.insert(\"hamilton\")\n",
    "\n",
    "trie.display() # Graphically display the Trie structure"
   ]
  },
  {
   "cell_type": "code",
   "execution_count": null,
   "metadata": {},
   "outputs": [],
   "source": [
    "print(trie.search(\"help\"))  # Returns True\n",
    "print(trie.search(\"helium\")) # Returns True\n",
    "print(trie.search(\"hell\"))   # Returns False, \"hell\" is not a complete word in the Trie\n",
    "\n"
   ]
  },
  {
   "cell_type": "code",
   "execution_count": null,
   "metadata": {},
   "outputs": [],
   "source": [
    "print(trie.starts_with(\"he\")) # Returns True, there are words that start with \"he\"\n",
    "print(trie.starts_with(\"hi\")) # Returns False, there are no words that start with \"hi\"\n",
    "\n"
   ]
  },
  {
   "cell_type": "code",
   "execution_count": null,
   "metadata": {},
   "outputs": [],
   "source": [
    "print(trie.ends_with(\"llo\"))         # Returns True, \"hello\" ends with \"llo\"\n",
    "print(trie.ends_with(\"ium\"))         # Returns True, \"helium\" ends with \"ium\"\n",
    "print(trie.ends_with(\"help\"))        # Returns False, no word ends with \"help\"\n",
    "\n"
   ]
  },
  {
   "cell_type": "code",
   "execution_count": null,
   "metadata": {},
   "outputs": [],
   "source": [
    "print(trie.search_substring(\"ell\"))  # Returns True, \"ell\" is a substring of \"hello\"\n",
    "print(trie.search_substring(\"help\")) # Returns False, \"help\" is not a substring\n",
    "\n"
   ]
  },
  {
   "cell_type": "code",
   "execution_count": null,
   "metadata": {},
   "outputs": [],
   "source": [
    "# To visualize the Trie:\n",
    "trie_dot = trie.draw_tree()\n",
    "trie_dot\n",
    "\n",
    "# trie_dot.render('trie_graph', view=True, format='png')\n"
   ]
  },
  {
   "cell_type": "code",
   "execution_count": null,
   "metadata": {},
   "outputs": [],
   "source": [
    "# construct Trie from a text corpus\n",
    "# https://www.kaggle.com/code/dmitryyemelyanov/sherlock-holmes-word-cloud-eda"
   ]
  },
  {
   "cell_type": "code",
   "execution_count": null,
   "metadata": {},
   "outputs": [],
   "source": [
    "import numpy as np\n",
    "import matplotlib.pyplot as plt\n",
    "import glob\n",
    "# from wordcloud import WordCloud,STOPWORDS\n",
    "from PIL import Image"
   ]
  },
  {
   "cell_type": "code",
   "execution_count": null,
   "metadata": {},
   "outputs": [],
   "source": [
    "Image.open('sherlock-holmes-silhouette.png')"
   ]
  },
  {
   "cell_type": "code",
   "execution_count": null,
   "metadata": {},
   "outputs": [],
   "source": [
    "lines = open(\"fina.txt\").readlines()\n",
    "lines[0:30]"
   ]
  },
  {
   "cell_type": "code",
   "execution_count": null,
   "metadata": {},
   "outputs": [],
   "source": [
    "import re\n",
    "\n",
    "def extract_words(corpus):\n",
    "    words_set = set()\n",
    "    for text in corpus:\n",
    "        # Split the text into words using regex that matches words\n",
    "        words = re.findall(r'\\b\\w+\\b', text.lower())\n",
    "        # Add to the set of unique words\n",
    "        words_set.update(words)\n",
    "    return list(words_set)\n",
    "\n",
    "unique_words = extract_words(lines)\n",
    "print(len(unique_words))\n",
    "print(sorted(unique_words))\n"
   ]
  },
  {
   "cell_type": "code",
   "execution_count": null,
   "metadata": {},
   "outputs": [],
   "source": [
    "trie = Trie()\n",
    "for word in sorted(unique_words)[7:108]:\n",
    "    trie.insert(word)"
   ]
  },
  {
   "cell_type": "code",
   "execution_count": null,
   "metadata": {},
   "outputs": [],
   "source": [
    "trie_dot = trie.draw_tree()\n",
    "trie_dot\n"
   ]
  },
  {
   "cell_type": "code",
   "execution_count": null,
   "metadata": {},
   "outputs": [],
   "source": [
    "print(trie.search_substring(\"alas\"))  \n",
    "print(trie.search_substring(\"about\")) \n",
    "print(trie.search_substring(\"allowed\")) \n",
    "print(trie.search_substring(\"allowing\")) \n"
   ]
  },
  {
   "cell_type": "markdown",
   "metadata": {},
   "source": [
    "Finding continuations for a word prefix"
   ]
  },
  {
   "cell_type": "code",
   "execution_count": null,
   "metadata": {},
   "outputs": [],
   "source": [
    "prefix = \"ab\"\n",
    "endings = trie.find_endings(prefix)\n",
    "print(f\"Possible endings for the prefix '{prefix}': {endings}\")\n",
    "\n"
   ]
  },
  {
   "cell_type": "code",
   "execution_count": null,
   "metadata": {},
   "outputs": [],
   "source": []
  }
 ],
 "metadata": {
  "kernelspec": {
   "display_name": "venv",
   "language": "python",
   "name": "python3"
  },
  "language_info": {
   "codemirror_mode": {
    "name": "ipython",
    "version": 3
   },
   "file_extension": ".py",
   "mimetype": "text/x-python",
   "name": "python",
   "nbconvert_exporter": "python",
   "pygments_lexer": "ipython3",
   "version": "3.7.9"
  }
 },
 "nbformat": 4,
 "nbformat_minor": 2
}
