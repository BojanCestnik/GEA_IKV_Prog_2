{
 "cells": [
  {
   "cell_type": "markdown",
   "metadata": {},
   "source": [
    "# Introduction\n",
    "\n",
    "In this competition we are to create a model to predict an energy usage per building **and** per meter. \n",
    "\n",
    "We are given a dataset of around 1450 buildings containing such information as building id, which is a unique identifier of a building across both train and test dataset. Meter - is the type of meter that measures the data - energy consumption in kWh. Different buildings might have different meters installed. Some of them have only one type of meter, some have all four. \n",
    "\n",
    "So we need to make a predictions for each meter of each building.\n",
    "\n",
    "\n",
    "# Content\n",
    "[Loading data](#1)\n",
    "\n",
    "[Amount of data and NaNs](#data_amount)\n",
    "\n",
    "[Mean meter reading by day](#2)\n",
    "\n",
    "[Number of observations by day](#3)\n",
    "\n",
    "### Features:\n",
    "* [Meter](#meter)\n",
    "* [Site_id](#site_id)\n",
    "* [primary_use](#primary_use)\n",
    "* [square_feet](#square_feet)\n",
    "* [year_built](#year_built)\n",
    "* [floor_count](#floor_count)\n",
    "* [building_id](#building_id)\n",
    "* [air_temperature](#air_temperature)\n",
    "* [cloud_coverage](#cloud_coverage)\n",
    "* [dew_temperature](#dew_temperature)\n",
    "* [precip_depth_1_hr](#precip_depth_1_hr)\n",
    "* [wind_direction & wind_speed](#wind_direction)\n",
    "\n",
    "### Engineered features:\n",
    "* [Observation hour](#Observation_hour)\n",
    "* [Observation day of month](#observ_day)\n",
    "* [Observation day of week](#observ_weekday)"
   ]
  },
  {
   "cell_type": "code",
   "execution_count": null,
   "metadata": {
    "_cell_guid": "b1076dfc-b9ad-4769-8c92-a6c4dae69d19",
    "_uuid": "8f2839f25d086af736a60e9eeb907d3b93b6e0e5"
   },
   "outputs": [],
   "source": [
    "import numpy as np\n",
    "import pandas as pd\n",
    "import matplotlib\n",
    "import matplotlib.pyplot as plt\n",
    "import seaborn as sns\n",
    "import warnings\n",
    "import gc\n",
    "warnings.simplefilter('ignore')\n",
    "matplotlib.rcParams['figure.dpi'] = 100\n",
    "sns.set()\n",
    "%matplotlib inline"
   ]
  },
  {
   "cell_type": "markdown",
   "metadata": {},
   "source": [
    "<a id=\"1\"></a>\n",
    "# Loading data"
   ]
  },
  {
   "cell_type": "code",
   "execution_count": null,
   "metadata": {
    "_cell_guid": "79c7e3d0-c299-4dcb-8224-4455121ee9b0",
    "_uuid": "d629ff2d2480ee46fbb7e2d37f6b5fab8052498a"
   },
   "outputs": [],
   "source": [
    "building = pd.read_csv('C:/work_r/R_DMKD/ashrae/building_metadata.csv')\n",
    "weather_train = pd.read_csv('C:/work_r/R_DMKD/ashrae/weather_train.csv')\n",
    "weather_test = pd.read_csv('C:/work_r/R_DMKD/ashrae/weather_test.csv')\n",
    "train = pd.read_csv('C:/work_r/R_DMKD/ashrae/train.csv')\n",
    "test = pd.read_csv('C:/work_r/R_DMKD/ashrae/test.csv')"
   ]
  },
  {
   "cell_type": "markdown",
   "metadata": {},
   "source": [
    "## Merging everything into two datasets: train and test"
   ]
  },
  {
   "cell_type": "code",
   "execution_count": null,
   "metadata": {},
   "outputs": [],
   "source": [
    "train = train.merge(building, on='building_id', how='left')\n",
    "test = test.merge(building, on='building_id', how='left')\n",
    "\n",
    "train = train.merge(weather_train, on=['site_id', 'timestamp'], how='left')\n",
    "test = test.merge(weather_test, on=['site_id', 'timestamp'], how='left')\n",
    "del weather_train, weather_test,building\n",
    "gc.collect();"
   ]
  },
  {
   "cell_type": "code",
   "execution_count": null,
   "metadata": {
    "_kg_hide-input": true
   },
   "outputs": [],
   "source": [
    "# Saving some memory\n",
    "d_types = {'building_id': np.int16,\n",
    "          'meter': np.int8,\n",
    "          'site_id': np.int8,\n",
    "          'primary_use': 'category',\n",
    "          'square_feet': np.int32,\n",
    "          'year_built': np.float16,\n",
    "          'floor_count': np.float16,\n",
    "          'air_temperature': np.float32,\n",
    "          'cloud_coverage': np.float16,\n",
    "          'dew_temperature': np.float32,\n",
    "          'precip_depth_1_hr': np.float16,\n",
    "          'sea_level_pressure': np.float32,\n",
    "          'wind_direction': np.float16,\n",
    "          'wind_speed': np.float32}\n",
    "\n",
    "for feature in d_types:\n",
    "    train[feature] = train[feature].astype(d_types[feature])\n",
    "    test[feature] = test[feature].astype(d_types[feature])\n",
    "    \n",
    "train[\"timestamp\"] = pd.to_datetime(train[\"timestamp\"])\n",
    "test[\"timestamp\"] = pd.to_datetime(test[\"timestamp\"])\n",
    "gc.collect();"
   ]
  },
  {
   "cell_type": "markdown",
   "metadata": {},
   "source": [
    "<a id=\"data_amount\"></a>\n",
    "# Amount of data and NaNs"
   ]
  },
  {
   "cell_type": "code",
   "execution_count": null,
   "metadata": {
    "_kg_hide-input": true
   },
   "outputs": [],
   "source": [
    "train_data = (train.count() / len(train)).drop('meter_reading').sort_values().values\n",
    "ind = np.arange(len(train_data))\n",
    "width = 0.35\n",
    "\n",
    "fig, axes = plt.subplots(1,1,figsize=(14, 6), dpi=100)\n",
    "tr = axes.bar(ind, train_data, width, color='royalblue')\n",
    "\n",
    "test_data = (test.count() / len(test)).drop('row_id').sort_values().values\n",
    "tt = axes.bar(ind+width, test_data, width, color='seagreen')\n",
    "\n",
    "axes.set_ylabel('Amount of data available');\n",
    "axes.set_xticks(ind + width / 2)\n",
    "axes.set_xticklabels((train.count() / len(train)).drop('meter_reading').sort_values().index, rotation=40)\n",
    "axes.legend([tr, tt], ['Train', 'Test']);"
   ]
  },
  {
   "cell_type": "markdown",
   "metadata": {},
   "source": [
    "<a id=\"2\"></a>\n",
    "# Mean meter reading by day"
   ]
  },
  {
   "cell_type": "code",
   "execution_count": null,
   "metadata": {
    "_kg_hide-input": true
   },
   "outputs": [],
   "source": [
    "fig, axes = plt.subplots(1, 1, figsize=(14, 6), dpi=100)\n",
    "train[['timestamp', 'meter_reading']].set_index('timestamp').resample('H').mean()['meter_reading'].plot(ax=axes, label='By hour', alpha=0.8).set_ylabel('Meter reading', fontsize=14);\n",
    "train[['timestamp', 'meter_reading']].set_index('timestamp').resample('D').mean()['meter_reading'].plot(ax=axes, label='By day', alpha=1).set_ylabel('Meter reading', fontsize=14);\n",
    "axes.set_title('Mean Meter reading by hour and day', fontsize=16);\n",
    "axes.legend();"
   ]
  },
  {
   "cell_type": "markdown",
   "metadata": {},
   "source": [
    "Doesn't this look weird? First reading are at the avarege level from January to March, then they explode from March to June and then drop down to almost zero with some peak at November.\n",
    "\n",
    "Lets take a closer look."
   ]
  },
  {
   "cell_type": "code",
   "execution_count": null,
   "metadata": {
    "_kg_hide-input": true
   },
   "outputs": [],
   "source": [
    "fig, axes = plt.subplots(8,2,figsize=(14, 30), dpi=100)\n",
    "for i in range(train['site_id'].nunique()):\n",
    "    train[train['site_id'] == i][['timestamp', 'meter_reading']].set_index('timestamp').resample('H').mean()['meter_reading'].plot(ax=axes[i%8][i//8], alpha=0.8, label='By hour', color='tab:blue').set_ylabel('Mean meter reading', fontsize=13);\n",
    "    train[train['site_id'] == i][['timestamp', 'meter_reading']].set_index('timestamp').resample('D').mean()['meter_reading'].plot(ax=axes[i%8][i//8], alpha=1, label='By day', color='tab:orange').set_xlabel('');\n",
    "    axes[i%8][i//8].legend();\n",
    "    axes[i%8][i//8].set_title('site_id {}'.format(i), fontsize=13);\n",
    "    plt.subplots_adjust(hspace=0.45)"
   ]
  },
  {
   "cell_type": "markdown",
   "metadata": {},
   "source": [
    "So what do we see here?\n",
    "\n",
    "* First of all, as it was already discussed, site_id 0 starts from March. Until that time all measurements are 0's. Maybe buildings in that area were under construction? As a conclusion - we don't need al the data for this particular site_id before that date.\n",
    "\n",
    "* site_id 13 looks a lot like the overall mean meter_reading, isn't it?"
   ]
  },
  {
   "cell_type": "markdown",
   "metadata": {},
   "source": [
    "### Mean meter reading by meter type for primary_use==Education and site_id==13"
   ]
  },
  {
   "cell_type": "code",
   "execution_count": null,
   "metadata": {
    "_kg_hide-input": true
   },
   "outputs": [],
   "source": [
    "fig, axes = plt.subplots(3,1,figsize=(14, 18), dpi=100)\n",
    "for i in train[(train['site_id'] == 13) & (train['primary_use'] == 'Education')]['meter'].value_counts(dropna=False).index.to_list():\n",
    "    train[(train['site_id'] == 13) & (train['primary_use'] == 'Education') & (train['meter'] == i)][['timestamp', 'meter_reading']].set_index('timestamp').resample('H').mean()['meter_reading'].plot(ax=axes[i], alpha=0.8, label='By hour', color='tab:blue').set_ylabel('Mean meter reading', fontsize=13);\n",
    "    train[(train['site_id'] == 13) & (train['primary_use'] == 'Education') & (train['meter'] == i)][['timestamp', 'meter_reading']].set_index('timestamp').resample('D').mean()['meter_reading'].plot(ax=axes[i], alpha=1, label='By day', color='tab:orange').set_xlabel('');\n",
    "    axes[i].legend();\n",
    "    axes[i].set_title('Meter: ' + str(i), fontsize=13);"
   ]
  },
  {
   "cell_type": "markdown",
   "metadata": {},
   "source": [
    "Fine. What we have right now is that site_id 13 with primary_use Education and meter type 2 is responsible for this mess. \n",
    "\n",
    "But we need to go deeper. There are 17 buildings that fall under these criteria. No problem. Another plot."
   ]
  },
  {
   "cell_type": "code",
   "execution_count": null,
   "metadata": {
    "_kg_hide-input": true
   },
   "outputs": [],
   "source": [
    "fig, axes = plt.subplots(9,2,figsize=(14, 36), dpi=100)\n",
    "for i, building in enumerate(train[(train['site_id'] == 13) & (train['primary_use'] == 'Education') & (train['meter'] == 2)]['building_id'].value_counts(dropna=False).index.to_list()):\n",
    "    train[(train['site_id'] == 13) & (train['primary_use'] == 'Education') & (train['meter'] == 2) & (train['building_id'] == building)][['timestamp', 'meter_reading']].set_index('timestamp').resample('H').mean()['meter_reading'].plot(ax=axes[i%9][i//9], alpha=0.8, label='By hour', color='tab:blue').set_ylabel('Mean meter reading', fontsize=13);\n",
    "    train[(train['site_id'] == 13) & (train['primary_use'] == 'Education') & (train['meter'] == 2) & (train['building_id'] == building)][['timestamp', 'meter_reading']].set_index('timestamp').resample('D').mean()['meter_reading'].plot(ax=axes[i%9][i//9], alpha=1, label='By day', color='tab:orange').set_xlabel('');\n",
    "    axes[i%9][i//9].legend();\n",
    "    axes[i%9][i//9].set_title('building_id: ' + str(building), fontsize=13);\n",
    "    plt.subplots_adjust(hspace=0.45)"
   ]
  },
  {
   "cell_type": "markdown",
   "metadata": {},
   "source": [
    "And we have a winner. It is a building_id == 1099 (we are going to see that guy a little later again). Now lets plot it side by side with a mean meter reading for all dataset. And also see what this plot would look like if we exclude building_id 1099 from the data."
   ]
  },
  {
   "cell_type": "code",
   "execution_count": null,
   "metadata": {
    "_kg_hide-input": true
   },
   "outputs": [],
   "source": [
    "fig, axes = plt.subplots(3,1,figsize=(14, 20), dpi=100)\n",
    "\n",
    "train[(train['meter'] == 2) & (train['building_id'] == 1099)][['timestamp', 'meter_reading']].set_index('timestamp').resample('H').mean()['meter_reading'].plot(ax=axes[0], alpha=0.8, label='By hour', color='tab:blue').set_ylabel('Mean meter reading', fontsize=13);\n",
    "train[(train['meter'] == 2) & (train['building_id'] == 1099)][['timestamp', 'meter_reading']].set_index('timestamp').resample('D').mean()['meter_reading'].plot(ax=axes[0], alpha=1, label='By day', color='tab:orange').set_xlabel('');\n",
    "\n",
    "train[['timestamp', 'meter_reading']].set_index('timestamp').resample('H').mean()['meter_reading'].plot(ax=axes[1], alpha=0.8, label='By hour', color='tab:blue').set_ylabel('Mean meter reading', fontsize=13);\n",
    "train[['timestamp', 'meter_reading']].set_index('timestamp').resample('D').mean()['meter_reading'].plot(ax=axes[1], alpha=1, label='By day', color='tab:orange').set_xlabel('');\n",
    "\n",
    "train[~((train['meter'] == 2) & (train['building_id'] == 1099))][['timestamp', 'meter_reading']].set_index('timestamp').resample('H').mean()['meter_reading'].plot(ax=axes[2], alpha=0.8, label='By hour', color='tab:blue').set_ylabel('Mean meter reading', fontsize=13);\n",
    "train[~((train['meter'] == 2) & (train['building_id'] == 1099))][['timestamp', 'meter_reading']].set_index('timestamp').resample('D').mean()['meter_reading'].plot(ax=axes[2], alpha=1, label='By day', color='tab:orange').set_xlabel('');\n",
    "\n",
    "axes[0].set_title('building_id==1099 and meter==2', fontsize=13);\n",
    "axes[1].set_title('Full dataset', fontsize=13);\n",
    "axes[2].set_title('building_id 1099 excluded', fontsize=13);\n",
    "plt.subplots_adjust(hspace=0.45)"
   ]
  },
  {
   "cell_type": "markdown",
   "metadata": {},
   "source": [
    "<a id=\"3\"></a>\n",
    "# Number of observations by day\n",
    "\n",
    "This is something interesting. We can see that number of observations by day in testing dataset is always the same. But not in the training set."
   ]
  },
  {
   "cell_type": "code",
   "execution_count": null,
   "metadata": {
    "_kg_hide-input": true
   },
   "outputs": [],
   "source": [
    "fig, axes = plt.subplots(1, 1, figsize=(14, 6))\n",
    "train['timestamp'].dt.floor('d').value_counts().sort_index().plot(ax=axes).set_xlabel('Date', fontsize=14);\n",
    "test['timestamp'].dt.floor('d').value_counts().sort_index().plot(ax=axes).set_ylabel('Number of observations', fontsize=14);\n",
    "axes.set_title('Number of observations by day', fontsize=16);\n",
    "axes.legend(['Train', 'Test']);"
   ]
  },
  {
   "cell_type": "markdown",
   "metadata": {},
   "source": [
    "<a id=\"meter\"></a>\n",
    "# Meter\n",
    "\n",
    "meter - The meter id code. Read as {0: electricity, 1: chilledwater, 2: steam, hotwater: 3}. Not every building has all meter type\n",
    "\n",
    "Looks like steam is the most unefficient way of heating things up."
   ]
  },
  {
   "cell_type": "code",
   "execution_count": null,
   "metadata": {
    "_kg_hide-input": true
   },
   "outputs": [],
   "source": [
    "train_data = train['meter'].value_counts(dropna=False, normalize=True).sort_index().values\n",
    "ind = np.arange(len(train_data))\n",
    "width = 0.35\n",
    "\n",
    "fig, axes = plt.subplots(1,1,figsize=(14, 6), dpi=100)\n",
    "tr = axes.bar(ind, train_data, width, color='royalblue')\n",
    "\n",
    "test_data = test['meter'].value_counts(dropna=False, normalize=True).sort_index().values\n",
    "tt = axes.bar(ind+width, test_data, width, color='seagreen')\n",
    "\n",
    "axes.set_ylabel('Normalized number of observations');\n",
    "axes.set_xlabel('meter type');\n",
    "axes.set_xticks(ind + width / 2)\n",
    "axes.set_xticklabels(train['meter'].value_counts().sort_index().index, rotation=0)\n",
    "axes2 = axes.twinx()\n",
    "mr = axes2.plot(ind, train[['meter', 'meter_reading']].groupby('meter')['meter_reading'].mean().sort_index().values, 'D-', color='tab:orange', label='Mean meter reading');\n",
    "axes2.grid(False);\n",
    "axes2.tick_params(axis='y', labelcolor='tab:orange');\n",
    "axes2.set_ylabel('Mean meter reading by meter type', color='tab:orange');\n",
    "axes.legend([tr, tt], ['Train', 'Test'], facecolor='white');\n",
    "axes2.legend(loc=5, facecolor='white');"
   ]
  },
  {
   "cell_type": "markdown",
   "metadata": {},
   "source": [
    "### Box plot of meter reading by meter type with outliers removed"
   ]
  },
  {
   "cell_type": "code",
   "execution_count": null,
   "metadata": {
    "_kg_hide-input": true
   },
   "outputs": [],
   "source": [
    "fig, axes = plt.subplots(1, 1, figsize=(14, 6))\n",
    "sns.boxplot(x='meter', y='meter_reading', data=train, showfliers=False);"
   ]
  },
  {
   "cell_type": "markdown",
   "metadata": {},
   "source": [
    "### Box plot of air temperature by meter type"
   ]
  },
  {
   "cell_type": "code",
   "execution_count": null,
   "metadata": {
    "_kg_hide-input": true
   },
   "outputs": [],
   "source": [
    "tmp_df = pd.concat([train[['meter', 'air_temperature']], test[['meter', 'air_temperature']]], ignore_index=True)\n",
    "tmp_df['dataset'] = 'Train'\n",
    "tmp_df.loc[tmp_df.index > len(train), 'dataset'] = 'Test'\n",
    "\n",
    "fig, axes = plt.subplots(1, 1, figsize=(14, 6))\n",
    "sns.boxplot(x='meter', y='air_temperature', data=tmp_df, hue='dataset', palette=\"Set3\");\n",
    "\n",
    "del tmp_df\n",
    "gc.collect();"
   ]
  },
  {
   "cell_type": "markdown",
   "metadata": {},
   "source": [
    "<a id=\"site_id\"></a>\n",
    "# site_id\n",
    "\n",
    "site_id - Foreign key for the weather files.\n",
    "\n",
    "In my understanding this is a location."
   ]
  },
  {
   "cell_type": "code",
   "execution_count": null,
   "metadata": {
    "_kg_hide-input": true
   },
   "outputs": [],
   "source": [
    "train_data = train['site_id'].value_counts(dropna=False, normalize=True).sort_index().values\n",
    "ind = np.arange(len(train_data))\n",
    "width = 0.35\n",
    "\n",
    "fig, axes = plt.subplots(1,1,figsize=(14, 6), dpi=100)\n",
    "tr = axes.bar(ind, train_data, width, color='royalblue')\n",
    "\n",
    "test_data = test['site_id'].value_counts(dropna=False, normalize=True).sort_index().values\n",
    "tt = axes.bar(ind+width, test_data, width, color='seagreen')\n",
    "\n",
    "axes.set_ylabel('Normalized number of observations');\n",
    "axes.set_xlabel('site_id');\n",
    "axes.set_xticks(ind + width / 2)\n",
    "axes.set_xticklabels(train['site_id'].value_counts().sort_index().index, rotation=0)\n",
    "axes2 = axes.twinx()\n",
    "mr = axes2.plot(ind, train[['site_id', 'meter_reading']].groupby('site_id')['meter_reading'].mean().sort_index().values, 'D-', color='tab:orange', label='Mean meter reading');\n",
    "axes2.grid(False);\n",
    "axes2.tick_params(axis='y', labelcolor='tab:orange');\n",
    "axes2.set_ylabel('Mean meter reading by site_id', color='tab:orange');\n",
    "axes.legend([tr, tt], ['Train', 'Test'], facecolor='white');\n",
    "axes2.legend(loc=2, facecolor='white');"
   ]
  },
  {
   "cell_type": "markdown",
   "metadata": {},
   "source": [
    "### Box plot of meter reading by site_id with outliers removed"
   ]
  },
  {
   "cell_type": "code",
   "execution_count": null,
   "metadata": {
    "_kg_hide-input": true
   },
   "outputs": [],
   "source": [
    "fig, axes = plt.subplots(1, 1, figsize=(14, 6))\n",
    "sns.boxplot(x='site_id', y='meter_reading', data=train, showfliers=False);"
   ]
  },
  {
   "cell_type": "markdown",
   "metadata": {},
   "source": [
    "### Box plot of air temperature by site_id"
   ]
  },
  {
   "cell_type": "code",
   "execution_count": null,
   "metadata": {
    "_kg_hide-input": true
   },
   "outputs": [],
   "source": [
    "tmp_df = pd.concat([train[['site_id', 'air_temperature']], test[['site_id', 'air_temperature']]], ignore_index=True)\n",
    "tmp_df['dataset'] = 'Train'\n",
    "tmp_df.loc[tmp_df.index > len(train), 'dataset'] = 'Test'\n",
    "\n",
    "fig, axes = plt.subplots(1, 1, figsize=(14, 6))\n",
    "sns.boxplot(x='site_id', y='air_temperature', data=tmp_df, hue='dataset', palette=\"Set3\");\n",
    "\n",
    "del tmp_df\n",
    "gc.collect();"
   ]
  },
  {
   "cell_type": "markdown",
   "metadata": {},
   "source": [
    "<a id=\"primary_use\"></a>\n",
    "# primary_use\n",
    "\n",
    "primary_use - Indicator of the primary category of activities for the building based on [EnergyStar property type definitions](https://www.energystar.gov/buildings/facility-owners-and-managers/existing-buildings/use-portfolio-manager/identify-your-property-type)"
   ]
  },
  {
   "cell_type": "code",
   "execution_count": null,
   "metadata": {
    "_kg_hide-input": true
   },
   "outputs": [],
   "source": [
    "train_data = train['primary_use'].value_counts(dropna=False, normalize=True).sort_index().values\n",
    "ind = np.arange(len(train_data))\n",
    "width = 0.35\n",
    "\n",
    "fig, axes = plt.subplots(1,1,figsize=(14, 6), dpi=100)\n",
    "tr = axes.bar(ind, train_data, width, color='royalblue')\n",
    "\n",
    "test_data = test['primary_use'].value_counts(dropna=False, normalize=True).sort_index().values\n",
    "tt = axes.bar(ind+width, test_data, width, color='seagreen')\n",
    "\n",
    "axes.set_ylabel('Normalized number of observations');\n",
    "axes.set_xlabel('primary_use');\n",
    "axes.set_xticks(ind + width / 2)\n",
    "axes.set_xticklabels(train['primary_use'].value_counts().sort_index().index, rotation=90)\n",
    "axes2 = axes.twinx()\n",
    "mr = axes2.plot(ind, train[['primary_use', 'meter_reading']].groupby('primary_use')['meter_reading'].mean().sort_index().values, 'D-', color='tab:orange', label='Mean meter reading');\n",
    "axes2.grid(False);\n",
    "axes2.tick_params(axis='y', labelcolor='tab:orange');\n",
    "axes2.set_ylabel('Mean meter reading by primary_use', color='tab:orange');\n",
    "axes.legend([tr, tt], ['Train', 'Test'], facecolor='white');\n",
    "axes2.legend(loc=5, facecolor='white');"
   ]
  },
  {
   "cell_type": "markdown",
   "metadata": {},
   "source": [
    "Square_feet is 100% the same as building_id. I am going to show that. Every building_id has only one unique value.\n",
    "\n",
    "Which makes sence - building_id is a unique building identifier and each building can have only one possible value of square_feet. Also year_built is going to be the same per unique building_id. Just keep that in mind."
   ]
  },
  {
   "cell_type": "code",
   "execution_count": null,
   "metadata": {},
   "outputs": [],
   "source": [
    "print(train[train['building_id'] == 0]['square_feet'].value_counts())\n",
    "print(train[train['building_id'] == 1]['square_feet'].value_counts())\n",
    "print(train[train['building_id'] == 100]['square_feet'].value_counts())"
   ]
  },
  {
   "cell_type": "code",
   "execution_count": null,
   "metadata": {},
   "outputs": [],
   "source": [
    "train[['building_id', 'square_feet']].sort_values(by='building_id')"
   ]
  },
  {
   "cell_type": "markdown",
   "metadata": {},
   "source": [
    "Lets take a look at the mean meter reading by building_id."
   ]
  },
  {
   "cell_type": "code",
   "execution_count": null,
   "metadata": {
    "_kg_hide-input": true
   },
   "outputs": [],
   "source": [
    "fig, axes = plt.subplots(1,1,figsize=(14, 6))\n",
    "train.groupby('building_id')['meter_reading'].mean().plot();\n",
    "axes.set_title('Mean meter reading by building_id', fontsize=14);\n",
    "axes.set_ylabel('Mean meter reading', fontsize=14);"
   ]
  },
  {
   "cell_type": "markdown",
   "metadata": {},
   "source": [
    "There is an obvious outlier in data. Lets see what it is.\n",
    "\n",
    "Well, it is an educational building with no year_build or floor_count provided, so probably it is an old one.\n",
    "\n",
    "They have a steam meter which measures such an outstanding amount of electricity used. \n",
    "\n",
    "It seems to me that this is a really really old school with a steam heating. "
   ]
  },
  {
   "cell_type": "code",
   "execution_count": null,
   "metadata": {},
   "outputs": [],
   "source": [
    "train[(train['building_id']==1099) & (train['meter_reading'] > 3000000)]"
   ]
  },
  {
   "cell_type": "markdown",
   "metadata": {},
   "source": [
    "Also there is one more interesting thing, that I want to check. This building is located at site_id 13. So maybe this is some old area? Or this building is the only one consuming so much in the neighbourhood?\n",
    "\n",
    "So I have decided to plot mean energy consumption by site_id WITH and WITHOUT this particular building included. And this is what it looks like.\n",
    "\n",
    "Pay attention - the 'Mean meter reading' scale has changed by a factor of 10. So this is the only building with such an enormoush measurements."
   ]
  },
  {
   "cell_type": "code",
   "execution_count": null,
   "metadata": {
    "_kg_hide-input": true
   },
   "outputs": [],
   "source": [
    "fig, axes = plt.subplots(1, 2, figsize=(14, 6))\n",
    "train['site_id'].value_counts(dropna=False, normalize=True).sort_index().plot(kind='bar', rot=0, ax=axes[0]).set_xlabel('site_id value');\n",
    "train[train['building_id']!=1099]['site_id'].value_counts(dropna=False, normalize=True).sort_index().plot(kind='bar', rot=0, ax=axes[1]).set_xlabel('site_id value');\n",
    "ax2 = axes[0].twinx()\n",
    "ax3 = axes[1].twinx()\n",
    "train.groupby('site_id')['meter_reading'].mean().sort_index().plot(ax=ax2, style='D-', grid=False, color='tab:orange');\n",
    "train[train['building_id']!=1099].groupby('site_id')['meter_reading'].mean().sort_index().plot(ax=ax3, style='D-', grid=False, color='tab:orange');\n",
    "ax2.set_ylabel('Mean meter reading', color='tab:orange', fontsize=14);\n",
    "ax3.set_ylabel('Mean meter reading', color='tab:orange', fontsize=14);\n",
    "ax2.tick_params(axis='y', labelcolor='tab:orange');\n",
    "ax3.tick_params(axis='y', labelcolor='tab:orange');\n",
    "plt.subplots_adjust(wspace=0.4)\n",
    "axes[0].set_title('WITH building_id 1099');\n",
    "axes[1].set_title('WITHOUT building_id 1099');"
   ]
  },
  {
   "cell_type": "markdown",
   "metadata": {},
   "source": [
    "Mean meter reading by building_id WITHOUT building_id 1099"
   ]
  },
  {
   "cell_type": "code",
   "execution_count": null,
   "metadata": {
    "_kg_hide-input": true
   },
   "outputs": [],
   "source": [
    "fig, axes = plt.subplots(1,1,figsize=(14, 6))\n",
    "train[train['building_id'] != 1099].groupby('building_id')['meter_reading'].mean().plot();\n",
    "axes.set_title('Mean meter reading by building_id', fontsize=14);\n",
    "axes.set_ylabel('Mean meter reading', fontsize=14);"
   ]
  },
  {
   "cell_type": "markdown",
   "metadata": {},
   "source": [
    "<a id=\"year_built\"></a>\n",
    "# year_built\n",
    "\n",
    "year_built - Year building was opened"
   ]
  },
  {
   "cell_type": "code",
   "execution_count": null,
   "metadata": {
    "_kg_hide-input": true
   },
   "outputs": [],
   "source": [
    "fig, axes = plt.subplots(1,1,figsize=(14, 6))\n",
    "train['year_built'].value_counts(dropna=False).sort_index().plot(ax=axes).set_xlabel('year_built');\n",
    "test['year_built'].value_counts(dropna=False).sort_index().plot(ax=axes).set_ylabel('Number of examples');\n",
    "axes.legend(['Train', 'Test']);\n",
    "axes.set_title('Number of examples per year_built', fontsize=16);"
   ]
  },
  {
   "cell_type": "code",
   "execution_count": null,
   "metadata": {
    "_kg_hide-input": true
   },
   "outputs": [],
   "source": [
    "fig, axes = plt.subplots(1,1,figsize=(14, 6))\n",
    "train.groupby('year_built')['meter_reading'].mean().plot().set_ylabel('Mean meter reading');\n",
    "axes.set_title('Mean meter reading by year_built of the building', fontsize=16);"
   ]
  },
  {
   "cell_type": "code",
   "execution_count": null,
   "metadata": {
    "_kg_hide-input": true
   },
   "outputs": [],
   "source": [
    "fig, axes = plt.subplots(2, 2, figsize=(14, 12))\n",
    "sns.kdeplot(train['year_built'], ax=axes[0][0], label='Train');\n",
    "sns.kdeplot(test['year_built'], ax=axes[0][0], label='Test');\n",
    "sns.boxplot(x=train['year_built'], ax=axes[1][0]);\n",
    "sns.boxplot(x=test['year_built'], ax=axes[1][1]);\n",
    "pd.DataFrame({'train': [train['year_built'].isnull().sum()], 'test': [test['year_built'].isnull().sum()]}).plot(kind='bar', rot=0, ax=axes[0][1]);\n",
    "axes[0][0].legend();\n",
    "axes[0][0].set_title('Train/Test KDE distribution');\n",
    "axes[0][1].set_title('Number of NaNs');\n",
    "axes[1][0].set_title('Boxplot for train');\n",
    "axes[1][1].set_title('Boxplot for test');\n",
    "gc.collect();"
   ]
  },
  {
   "cell_type": "markdown",
   "metadata": {},
   "source": [
    "<a id=\"floor_count\"></a>\n",
    "# floor_count\n",
    "\n",
    "floor_count - Number of floors of the building"
   ]
  },
  {
   "cell_type": "code",
   "execution_count": null,
   "metadata": {
    "_kg_hide-input": true
   },
   "outputs": [],
   "source": [
    "fig, axes = plt.subplots(1, 2, figsize=(14, 6))\n",
    "sns.kdeplot(train['floor_count'], label='Train', ax=axes[0]);\n",
    "sns.kdeplot(test['floor_count'], label='Test', ax=axes[0]);\n",
    "test.index += len(train)\n",
    "axes[1].plot(train['floor_count'], '.', label='Train');\n",
    "axes[1].plot(test['floor_count'], '.', label='Test');\n",
    "test.index -= len(train)\n",
    "axes[0].set_title('Train/Test KDE distribution');\n",
    "axes[1].set_title('Index versus value: Train/Test distribution');\n",
    "gc.collect();"
   ]
  },
  {
   "cell_type": "code",
   "execution_count": null,
   "metadata": {
    "_kg_hide-input": true
   },
   "outputs": [],
   "source": [
    "fig, axes = plt.subplots(1,1,figsize=(14, 6))\n",
    "pd.Series(index=train['floor_count'].value_counts().index, \n",
    "          data=train.groupby('floor_count')['meter_reading'].transform('mean').value_counts().index).sort_index().plot(kind='bar', rot=0, ax=axes);\n",
    "axes.set_xlabel('Floor count');\n",
    "axes.set_ylabel('Mean meter reading');\n",
    "axes.set_title('Mean meter reading by floor count');"
   ]
  },
  {
   "cell_type": "markdown",
   "metadata": {},
   "source": [
    "### Number of NaNs in floor_count"
   ]
  },
  {
   "cell_type": "code",
   "execution_count": null,
   "metadata": {
    "_kg_hide-input": true
   },
   "outputs": [],
   "source": [
    "pd.DataFrame({'train': [train['floor_count'].isnull().sum()], 'test': [test['floor_count'].isnull().sum()]}).plot(kind='bar', rot=0);"
   ]
  },
  {
   "cell_type": "markdown",
   "metadata": {},
   "source": [
    "<a id=\"building_id\"></a>\n",
    "# building_id\n",
    "\n",
    "building_id - Building id code"
   ]
  },
  {
   "cell_type": "code",
   "execution_count": null,
   "metadata": {
    "_kg_hide-input": true
   },
   "outputs": [],
   "source": [
    "fig, axes = plt.subplots(1,2,figsize=(14, 6), sharey=True, dpi=100)\n",
    "axes[0].plot(train['building_id'].value_counts().sort_index(), '.');\n",
    "axes[1].plot(test['building_id'].value_counts().sort_index(), '.');\n",
    "axes[0].set_title('Train', fontsize=14);\n",
    "axes[1].set_title('Test', fontsize=14);\n",
    "axes[0].set_xlabel('building_id');\n",
    "axes[1].set_xlabel('building_id');\n",
    "axes[0].set_ylabel('Number of examples');\n",
    "fig.suptitle('Number of training examples per building_id', fontsize=16);"
   ]
  },
  {
   "cell_type": "code",
   "execution_count": null,
   "metadata": {
    "_kg_hide-input": true
   },
   "outputs": [],
   "source": [
    "fig, axes = plt.subplots(1, 2, figsize=(14, 6), dpi=100, sharey=True)\n",
    "train.groupby('building_id')['meter'].nunique().plot(style='.', ax=axes[0]);\n",
    "test.groupby('building_id')['meter'].nunique().plot(style='.', ax=axes[1]);\n",
    "axes[0].set_title('Train', fontsize=14);\n",
    "axes[1].set_title('Test', fontsize=14);\n",
    "axes[0].set_xlabel('building_id');\n",
    "axes[1].set_xlabel('building_id');\n",
    "axes[0].set_ylabel('Number of meters installed');\n",
    "plt.yticks([1, 2, 3, 4]);\n",
    "fig.suptitle('Number of meters installed per building_id', fontsize=16);"
   ]
  },
  {
   "cell_type": "markdown",
   "metadata": {},
   "source": [
    "<a id=\"air_temperature\"></a>\n",
    "# air_temperature\n",
    "\n",
    "air_temperature - Degrees Celsius"
   ]
  },
  {
   "cell_type": "code",
   "execution_count": null,
   "metadata": {
    "_kg_hide-input": true
   },
   "outputs": [],
   "source": [
    "fig, axes = plt.subplots(1,1,figsize=(14, 6), dpi=100)\n",
    "train[['timestamp', 'air_temperature']].set_index('timestamp').resample('H').mean()['air_temperature'].plot(ax=axes, alpha=0.8, label='By hour', color='tab:blue').set_ylabel('Mean temperature', fontsize=14);\n",
    "test[['timestamp', 'air_temperature']].set_index('timestamp').resample('H').mean()['air_temperature'].plot(ax=axes, alpha=0.8, color='tab:blue', label='');\n",
    "train[['timestamp', 'air_temperature']].set_index('timestamp').resample('D').mean()['air_temperature'].plot(ax=axes, alpha=1, label='By day', color='tab:orange');\n",
    "test[['timestamp', 'air_temperature']].set_index('timestamp').resample('D').mean()['air_temperature'].plot(ax=axes, alpha=1, color='tab:orange', label='');\n",
    "axes.legend();\n",
    "axes.text(train['timestamp'].iloc[9000000], -3, 'Train', fontsize=16);\n",
    "axes.text(test['timestamp'].iloc[29400000], 30, 'Test', fontsize=16);\n",
    "axes.axvspan(test['timestamp'].min(), test['timestamp'].max(), facecolor='green', alpha=0.2);"
   ]
  },
  {
   "cell_type": "markdown",
   "metadata": {},
   "source": [
    "Air temperature by site_id. Looks like some sites are more to north and some more to south."
   ]
  },
  {
   "cell_type": "code",
   "execution_count": null,
   "metadata": {
    "_kg_hide-input": true
   },
   "outputs": [],
   "source": [
    "fig, axes = plt.subplots(8,2,figsize=(14, 30), dpi=100)\n",
    "for i in range(train['site_id'].nunique()):\n",
    "    train[train['site_id'] == i][['timestamp', 'air_temperature']].set_index('timestamp').resample('H').mean()['air_temperature'].plot(ax=axes[i%8][i//8], alpha=0.8, label='By hour', color='tab:blue').set_ylabel('Mean temperature', fontsize=13);\n",
    "    test[test['site_id'] == i][['timestamp', 'air_temperature']].set_index('timestamp').resample('H').mean()['air_temperature'].plot(ax=axes[i%8][i//8], alpha=0.8, color='tab:blue', label='').set_xlabel('')\n",
    "    train[train['site_id'] == i][['timestamp', 'air_temperature']].set_index('timestamp').resample('D').mean()['air_temperature'].plot(ax=axes[i%8][i//8], alpha=1, label='By day', color='tab:orange')\n",
    "    test[test['site_id'] == i][['timestamp', 'air_temperature']].set_index('timestamp').resample('D').mean()['air_temperature'].plot(ax=axes[i%8][i//8], alpha=1, color='tab:orange', label='').set_xlabel('')\n",
    "    axes[i%8][i//8].legend();\n",
    "    axes[i%8][i//8].set_title('site_id {}'.format(i), fontsize=13);\n",
    "    axes[i%8][i//8].axvspan(test['timestamp'].min(), test['timestamp'].max(), facecolor='green', alpha=0.2);\n",
    "    plt.subplots_adjust(hspace=0.45)"
   ]
  },
  {
   "cell_type": "markdown",
   "metadata": {},
   "source": [
    "<a id=\"cloud_coverage\"></a>\n",
    "# cloud_coverage\n",
    "\n",
    "cloud_coverage - Portion of the sky covered in clouds, in [oktas](https://en.wikipedia.org/wiki/Okta)"
   ]
  },
  {
   "cell_type": "code",
   "execution_count": null,
   "metadata": {
    "_kg_hide-input": true
   },
   "outputs": [],
   "source": [
    "fig, axes = plt.subplots(1, 2, figsize=(14, 6), dpi=100)\n",
    "train['cloud_coverage'].value_counts(dropna=False, normalize=True).sort_index().plot(kind='bar', rot=0, ax=axes[0]).set_xlabel('cloud_coverage value');\n",
    "test['cloud_coverage'].value_counts(dropna=False, normalize=True).sort_index().plot(kind='bar', rot=0, ax=axes[1]).set_xlabel('cloud_coverage values');\n",
    "axes[0].set_title('Distribution in train', fontsize=14);\n",
    "axes[1].set_title('Distribution in test', fontsize=14);\n",
    "ax2 = axes[0].twinx()\n",
    "train[['cloud_coverage', 'meter_reading']].replace(np.nan, 'nan').groupby('cloud_coverage')['meter_reading'].mean().plot(ax=ax2, style='D-', grid=False, color='tab:orange');\n",
    "ax2.tick_params(axis='y', labelcolor='tab:orange');\n",
    "ax2.set_ylabel('Mean meter reading', color='tab:orange', fontsize=14);\n",
    "ax2.set_xticklabels(train['cloud_coverage'].value_counts(dropna=False).sort_index().index)\n",
    "plt.subplots_adjust(wspace=0.4);"
   ]
  },
  {
   "cell_type": "markdown",
   "metadata": {},
   "source": [
    "<a id=\"dew_temperature\"></a>\n",
    "# dew_temperature\n",
    "\n",
    "dew_temperature - Degrees Celsius"
   ]
  },
  {
   "cell_type": "code",
   "execution_count": null,
   "metadata": {
    "_kg_hide-input": true
   },
   "outputs": [],
   "source": [
    "fig, axes = plt.subplots(1,1,figsize=(14, 6), dpi=100)\n",
    "train[['timestamp', 'dew_temperature']].set_index('timestamp').resample('H').mean()['dew_temperature'].plot(ax=axes, alpha=0.8, label='By hour', color='tab:blue').set_ylabel('Mean dew temperature', fontsize=14);\n",
    "test[['timestamp', 'dew_temperature']].set_index('timestamp').resample('H').mean()['dew_temperature'].plot(ax=axes, alpha=0.8, color='tab:blue', label='');\n",
    "train[['timestamp', 'dew_temperature']].set_index('timestamp').resample('D').mean()['dew_temperature'].plot(ax=axes, alpha=1, label='By day', color='tab:orange');\n",
    "test[['timestamp', 'dew_temperature']].set_index('timestamp').resample('D').mean()['dew_temperature'].plot(ax=axes, alpha=1, color='tab:orange', label='');\n",
    "axes.legend();\n",
    "axes.text(train['timestamp'].iloc[9000000], -5, 'Train', fontsize=16);\n",
    "axes.text(test['timestamp'].iloc[29400000], 16, 'Test', fontsize=16);\n",
    "axes.axvspan(test['timestamp'].min(), test['timestamp'].max(), facecolor='green', alpha=0.2);"
   ]
  },
  {
   "cell_type": "markdown",
   "metadata": {},
   "source": [
    "Mean dew temperature by site_id"
   ]
  },
  {
   "cell_type": "code",
   "execution_count": null,
   "metadata": {
    "_kg_hide-input": true
   },
   "outputs": [],
   "source": [
    "fig, axes = plt.subplots(8,2,figsize=(14, 30), dpi=100)\n",
    "for i in range(train['site_id'].nunique()):\n",
    "    train[train['site_id'] == i][['timestamp', 'dew_temperature']].set_index('timestamp').resample('H').mean()['dew_temperature'].plot(ax=axes[i%8][i//8], alpha=0.8, label='By hour', color='tab:blue').set_ylabel('Mean dew temperature', fontsize=13);\n",
    "    test[test['site_id'] == i][['timestamp', 'dew_temperature']].set_index('timestamp').resample('H').mean()['dew_temperature'].plot(ax=axes[i%8][i//8], alpha=0.8, color='tab:blue', label='').set_xlabel('')\n",
    "    train[train['site_id'] == i][['timestamp', 'dew_temperature']].set_index('timestamp').resample('D').mean()['dew_temperature'].plot(ax=axes[i%8][i//8], alpha=1, label='By day', color='tab:orange')\n",
    "    test[test['site_id'] == i][['timestamp', 'dew_temperature']].set_index('timestamp').resample('D').mean()['dew_temperature'].plot(ax=axes[i%8][i//8], alpha=1, color='tab:orange', label='').set_xlabel('')\n",
    "    axes[i%8][i//8].legend();\n",
    "    axes[i%8][i//8].set_title('site_id {}'.format(i), fontsize=13);\n",
    "    axes[i%8][i//8].axvspan(test['timestamp'].min(), test['timestamp'].max(), facecolor='green', alpha=0.2);\n",
    "    plt.subplots_adjust(hspace=0.45)"
   ]
  },
  {
   "cell_type": "markdown",
   "metadata": {},
   "source": [
    "<a id=\"precip_depth_1_hr\"></a>\n",
    "# precip_depth_1_hr\n",
    "precip_depth_1_hr - Millimeters\n",
    "\n",
    "There are plenty of NaNs and you can see on the following plot that there is no information for Decemder 2016 - January 2017."
   ]
  },
  {
   "cell_type": "code",
   "execution_count": null,
   "metadata": {
    "_kg_hide-input": true
   },
   "outputs": [],
   "source": [
    "fig, axes = plt.subplots(1,1,figsize=(14, 6), dpi=100)\n",
    "train[['timestamp', 'precip_depth_1_hr']].set_index('timestamp').resample('M').mean()['precip_depth_1_hr'].plot(ax=axes, alpha=0.8, label='By month', color='tab:blue').set_ylabel('Mean precip_depth_1_hr', fontsize=14);\n",
    "test[['timestamp', 'precip_depth_1_hr']].set_index('timestamp').resample('M').mean()['precip_depth_1_hr'].plot(ax=axes, alpha=0.8, color='tab:blue', label='');\n",
    "axes.legend();"
   ]
  },
  {
   "cell_type": "markdown",
   "metadata": {},
   "source": [
    "<a id=\"sea_level_pressure\"></a>\n",
    "\n",
    "# sea_level_pressure\n",
    "\n",
    "sea_level_pressure - Millibar/hectopascals"
   ]
  },
  {
   "cell_type": "code",
   "execution_count": null,
   "metadata": {
    "_kg_hide-input": true
   },
   "outputs": [],
   "source": [
    "fig, axes = plt.subplots(1,1,figsize=(14, 6), dpi=100)\n",
    "train[['timestamp', 'sea_level_pressure']].set_index('timestamp').resample('H').mean()['sea_level_pressure'].plot(ax=axes, alpha=0.8, label='By hour', color='tab:blue').set_ylabel('Mean sea_level_pressure', fontsize=14);\n",
    "test[['timestamp', 'sea_level_pressure']].set_index('timestamp').resample('H').mean()['sea_level_pressure'].plot(ax=axes, alpha=0.8, color='tab:blue', label='');\n",
    "train[['timestamp', 'sea_level_pressure']].set_index('timestamp').resample('D').mean()['sea_level_pressure'].plot(ax=axes, alpha=1, label='By day', color='tab:orange');\n",
    "test[['timestamp', 'sea_level_pressure']].set_index('timestamp').resample('D').mean()['sea_level_pressure'].plot(ax=axes, alpha=1, color='tab:orange', label='');\n",
    "axes.legend();\n",
    "axes.text(train['timestamp'].iloc[9000000], 1004, 'Train', fontsize=16);\n",
    "axes.text(test['timestamp'].iloc[21000000], 1032, 'Test', fontsize=16);\n",
    "axes.axvspan(test['timestamp'].min(), test['timestamp'].max(), facecolor='green', alpha=0.2);"
   ]
  },
  {
   "cell_type": "markdown",
   "metadata": {},
   "source": [
    "And separate by site_id"
   ]
  },
  {
   "cell_type": "code",
   "execution_count": null,
   "metadata": {
    "_kg_hide-input": true
   },
   "outputs": [],
   "source": [
    "fig, axes = plt.subplots(8,2,figsize=(14, 30), dpi=100)\n",
    "for i in range(train['site_id'].nunique()):\n",
    "    train[train['site_id'] == i][['timestamp', 'sea_level_pressure']].set_index('timestamp').resample('H').mean()['sea_level_pressure'].plot(ax=axes[i%8][i//8], alpha=0.8, label='By hour', color='tab:blue').set_ylabel('Mean sea_level_pressure', fontsize=13);\n",
    "    test[test['site_id'] == i][['timestamp', 'sea_level_pressure']].set_index('timestamp').resample('H').mean()['sea_level_pressure'].plot(ax=axes[i%8][i//8], alpha=0.8, color='tab:blue', label='').set_xlabel('')\n",
    "    train[train['site_id'] == i][['timestamp', 'sea_level_pressure']].set_index('timestamp').resample('D').mean()['sea_level_pressure'].plot(ax=axes[i%8][i//8], alpha=1, label='By day', color='tab:orange')\n",
    "    test[test['site_id'] == i][['timestamp', 'sea_level_pressure']].set_index('timestamp').resample('D').mean()['sea_level_pressure'].plot(ax=axes[i%8][i//8], alpha=1, color='tab:orange', label='').set_xlabel('')\n",
    "    axes[i%8][i//8].legend();\n",
    "    axes[i%8][i//8].set_title('site_id {}'.format(i), fontsize=13);\n",
    "    axes[i%8][i//8].axvspan(test['timestamp'].min(), test['timestamp'].max(), facecolor='green', alpha=0.2);\n",
    "    plt.subplots_adjust(hspace=0.45)"
   ]
  },
  {
   "cell_type": "markdown",
   "metadata": {},
   "source": [
    "As we can see all values for site_id 5 are NaNs. Maybe there is no a pressure meter installed in that area?"
   ]
  },
  {
   "cell_type": "code",
   "execution_count": null,
   "metadata": {},
   "outputs": [],
   "source": [
    "train[train['site_id'] == 5]['sea_level_pressure'].value_counts(dropna=False)"
   ]
  },
  {
   "cell_type": "markdown",
   "metadata": {},
   "source": [
    "<a id=\"wind_direction\"></a>\n",
    "# wind_direction & wind_speed\n",
    "\n",
    "wind_direction - Compass direction (0-360)\n",
    "\n",
    "wind_speed - Meters per second\n",
    "\n",
    "\n",
    "\n",
    "Ok, plotting this is tricky, so I am going to do it using [this manual](https://gist.github.com/phobson/41b41bdd157a2bcf6e14)\n",
    "\n",
    "First of all: direction of 0° and 360° is the same thing. But both are presented in the datasets."
   ]
  },
  {
   "cell_type": "code",
   "execution_count": null,
   "metadata": {
    "_kg_hide-input": true
   },
   "outputs": [],
   "source": [
    "print('Number of observations with 0 degree direction in TRAIN: {} ({:.2f}%)'.format(train[train['wind_direction'] == 0].shape[0], train[train['wind_direction'] == 0].shape[0] / len(train)))\n",
    "print('Number of observations with 0 degree direction in TEST: {} ({:.2f}%)'.format(test[test['wind_direction'] == 0].shape[0], test[test['wind_direction'] == 0].shape[0] / len(test)))\n",
    "print('Number of observations with 360 degree direction in TRAIN: {} ({:.2f}%)'.format(train[train['wind_direction'] == 360].shape[0], train[train['wind_direction'] == 360].shape[0] / len(train)))\n",
    "print('Number of observations with 360 degree direction in TEST: {} ({:.2f}%)'.format(test[test['wind_direction'] == 360].shape[0], test[test['wind_direction'] == 360].shape[0] / len(test)))"
   ]
  },
  {
   "cell_type": "markdown",
   "metadata": {},
   "source": [
    "Now lets see how many observations have calm conditions (wind speed is 0 meters per second)"
   ]
  },
  {
   "cell_type": "code",
   "execution_count": null,
   "metadata": {
    "_kg_hide-input": true
   },
   "outputs": [],
   "source": [
    "print('Number of observations that have calm conditions in TRAIN: {} ({:.2f}%)'.format(train[train['wind_speed'] == 0].shape[0], train[train['wind_speed'] == 0].shape[0] / len(train)))\n",
    "print('Number of observations that have calm conditions in TEST: {} ({:.2f}%)'.format(test[test['wind_speed'] == 0].shape[0], test[test['wind_speed'] == 0].shape[0] / len(test)))"
   ]
  },
  {
   "cell_type": "code",
   "execution_count": null,
   "metadata": {
    "_kg_hide-input": true
   },
   "outputs": [],
   "source": [
    "def speed_labels(bins:list, units:str) -> list:   \n",
    "    labels = list()\n",
    "    for left, right in zip(bins[:-1], bins[1:]):\n",
    "        if left == bins[0]:\n",
    "            labels.append('calm'.format(right))\n",
    "        elif np.isinf(right):\n",
    "            labels.append('>{} {}'.format(left, units))\n",
    "        else:\n",
    "            labels.append('{} - {} {}'.format(left, right, units))\n",
    "    return labels\n",
    "\n",
    "def _convert_dir(directions, N=None):\n",
    "    if N is None:\n",
    "        N = directions.shape[0]\n",
    "    barDir = directions * np.pi/180. - np.pi/N\n",
    "    barWidth = 2 * np.pi / N\n",
    "    return barDir, barWidth\n",
    "\n",
    "spd_bins = [-1, 0, 5, 10, 15, 20, 25, 30, np.inf]\n",
    "spd_labels = speed_labels(spd_bins, units='m/s')\n",
    "\n",
    "dir_bins = np.arange(-7.5, 370, 15)\n",
    "dir_labels = (dir_bins[:-1] + dir_bins[1:]) / 2"
   ]
  },
  {
   "cell_type": "code",
   "execution_count": null,
   "metadata": {
    "_kg_hide-input": true
   },
   "outputs": [],
   "source": [
    "calm_count = train[train['wind_speed'] == 0].shape[0]\n",
    "total_count = len(train)\n",
    "rose = (train.assign(WindSpd_bins=lambda df:\n",
    "            pd.cut(df['wind_speed'], bins=spd_bins, labels=spd_labels, right=True)).assign(WindDir_bins=lambda df: pd.cut(df['wind_direction'], bins=dir_bins, labels=dir_labels, right=False)).replace({'WindDir_bins': {360: 0}}).groupby(by=['WindSpd_bins', 'WindDir_bins']).size().unstack(level='WindSpd_bins').fillna(0).assign(calm=lambda df: calm_count / df.shape[0]).sort_index(axis=1).applymap(lambda x: x / total_count * 100))\n",
    "# rose.drop(rose.index[0], inplace=True)\n",
    "directions = np.arange(0, 360, 15)"
   ]
  },
  {
   "cell_type": "code",
   "execution_count": null,
   "metadata": {
    "_kg_hide-input": true
   },
   "outputs": [],
   "source": [
    "def wind_rose(rosedata, wind_dirs, palette=None):\n",
    "    if palette is None:\n",
    "        palette = sns.color_palette('inferno', n_colors=rosedata.shape[1])\n",
    "\n",
    "    bar_dir, bar_width = _convert_dir(wind_dirs)\n",
    "\n",
    "    fig, ax = plt.subplots(figsize=(10, 10), subplot_kw=dict(polar=True))\n",
    "    ax.set_theta_direction('clockwise')\n",
    "    ax.set_theta_zero_location('N')\n",
    "\n",
    "    for n, (c1, c2) in enumerate(zip(rosedata.columns[:-1], rosedata.columns[1:])):\n",
    "        if n == 0:\n",
    "            # first column only\n",
    "            ax.bar(bar_dir, rosedata[c1].values, \n",
    "                   width=bar_width,\n",
    "                   color=palette[0],\n",
    "                   edgecolor='none',\n",
    "                   label=c1,\n",
    "                   linewidth=0)\n",
    "\n",
    "        # all other columns\n",
    "        ax.bar(bar_dir, rosedata[c2].values, \n",
    "               width=bar_width, \n",
    "               bottom=rosedata.cumsum(axis=1)[c1].values,\n",
    "               color=palette[n+1],\n",
    "               edgecolor='none',\n",
    "               label=c2,\n",
    "               linewidth=0)\n",
    "\n",
    "    leg = ax.legend(loc=(0.75, 0.95), ncol=2)\n",
    "    xtl = ax.set_xticklabels(['N', 'NE', 'E', 'SE', 'S', 'SW', 'W', 'NW'])\n",
    "    \n",
    "    return fig"
   ]
  },
  {
   "cell_type": "markdown",
   "metadata": {},
   "source": [
    "This is a wind rose for TRAIN:"
   ]
  },
  {
   "cell_type": "code",
   "execution_count": null,
   "metadata": {},
   "outputs": [],
   "source": [
    "rose.shape\n",
    "# rose"
   ]
  },
  {
   "cell_type": "code",
   "execution_count": null,
   "metadata": {},
   "outputs": [],
   "source": [
    "directions.shape\n",
    "# directions"
   ]
  },
  {
   "cell_type": "code",
   "execution_count": null,
   "metadata": {},
   "outputs": [],
   "source": [
    "fig = wind_rose(rose, directions)"
   ]
  },
  {
   "cell_type": "code",
   "execution_count": null,
   "metadata": {
    "_kg_hide-input": true
   },
   "outputs": [],
   "source": [
    "calm_count = test[test['wind_speed'] == 0].shape[0]\n",
    "total_count = len(test)\n",
    "rose = (test.assign(WindSpd_bins=lambda df:\n",
    "            pd.cut(df['wind_speed'], bins=spd_bins, labels=spd_labels, right=True)).assign(WindDir_bins=lambda df: pd.cut(df['wind_direction'], bins=dir_bins, labels=dir_labels, right=False)).replace({'WindDir_bins': {360: 0}}).groupby(by=['WindSpd_bins', 'WindDir_bins']).size().unstack(level='WindSpd_bins').fillna(0).assign(calm=lambda df: calm_count / df.shape[0]).sort_index(axis=1).applymap(lambda x: x / total_count * 100))\n",
    "# rose.drop(rose.index[0], inplace=True)"
   ]
  },
  {
   "cell_type": "markdown",
   "metadata": {},
   "source": [
    "And wind rose for TEST"
   ]
  },
  {
   "cell_type": "code",
   "execution_count": null,
   "metadata": {},
   "outputs": [],
   "source": [
    "fig = wind_rose(rose, directions)"
   ]
  },
  {
   "cell_type": "markdown",
   "metadata": {},
   "source": [
    "# Engineered features\n",
    "\n",
    "Now lets add some new features and see if they might be usefull. First I am going to work with timeseries data.\n",
    "\n",
    "<a id='Observation_hour'></a>\n",
    "# Observation hour\n",
    "\n",
    "An hour the meter reading was recorded."
   ]
  },
  {
   "cell_type": "code",
   "execution_count": null,
   "metadata": {},
   "outputs": [],
   "source": [
    "train['hour'] = train['timestamp'].dt.hour\n",
    "test['hour'] = test['timestamp'].dt.hour"
   ]
  },
  {
   "cell_type": "markdown",
   "metadata": {},
   "source": [
    "One more evidence that train and test datasets are very well balanced. Number of observations per hour is almost the same.\n",
    "\n",
    "Also we can see that energy consumption raises up during the day and lowers during the night hours."
   ]
  },
  {
   "cell_type": "code",
   "execution_count": null,
   "metadata": {
    "_kg_hide-input": true
   },
   "outputs": [],
   "source": [
    "train_data = train['hour'].value_counts(dropna=False, normalize=True).sort_index().values\n",
    "ind = np.arange(len(train_data))\n",
    "width = 0.35\n",
    "\n",
    "fig, axes = plt.subplots(1,1,figsize=(14, 6), dpi=100)\n",
    "tr = axes.bar(ind, train_data, width, color='royalblue')\n",
    "\n",
    "test_data = test['hour'].value_counts(dropna=False, normalize=True).sort_index().values\n",
    "tt = axes.bar(ind+width, test_data, width, color='seagreen')\n",
    "\n",
    "axes.set_ylabel('Normalized number of observations');\n",
    "axes.set_xlabel('Hour');\n",
    "axes.set_xticks(ind + width / 2)\n",
    "axes.set_xticklabels(train['hour'].value_counts().sort_index().index, rotation=0)\n",
    "axes2 = axes.twinx()\n",
    "mr = axes2.plot(ind, train[['hour', 'meter_reading']].groupby('hour')['meter_reading'].mean().sort_index().values, 'D-', color='tab:orange', label='Mean meter reading');\n",
    "axes2.grid(False);\n",
    "axes2.tick_params(axis='y', labelcolor='tab:orange');\n",
    "axes2.set_ylabel('Mean meter reading by hour', color='tab:orange');\n",
    "axes.legend([tr, tt], ['Train', 'Test'], facecolor='white');\n",
    "axes2.legend(loc=2, facecolor='white');"
   ]
  },
  {
   "cell_type": "markdown",
   "metadata": {},
   "source": [
    "<a id='observ_day'></a>\n",
    "# Observation day of month\n",
    "\n",
    "A day of month the meter reading was recorded.\n",
    "\n",
    "Number of observations for day 30 and 31 are lower than for other days, which makes sence - not every month have 30 or 31 days in it.\n",
    "\n",
    "Also pay attention that number of observations for day 29 in training set is higher than in testing set. This is because training set contains observations of the year 2016, which was a leap year."
   ]
  },
  {
   "cell_type": "code",
   "execution_count": null,
   "metadata": {},
   "outputs": [],
   "source": [
    "train['day'] = train['timestamp'].dt.day\n",
    "test['day'] = test['timestamp'].dt.day"
   ]
  },
  {
   "cell_type": "code",
   "execution_count": null,
   "metadata": {
    "_kg_hide-input": true
   },
   "outputs": [],
   "source": [
    "train_data = train['day'].value_counts(dropna=False, normalize=True).sort_index().values\n",
    "ind = np.arange(len(train_data))\n",
    "width = 0.35\n",
    "\n",
    "fig, axes = plt.subplots(1,1,figsize=(14, 6), dpi=100)\n",
    "tr = axes.bar(ind, train_data, width, color='royalblue')\n",
    "\n",
    "test_data = test['day'].value_counts(dropna=False, normalize=True).sort_index().values\n",
    "tt = axes.bar(ind+width, test_data, width, color='seagreen')\n",
    "\n",
    "axes.set_ylabel('Normalized number of observations');\n",
    "axes.set_xlabel('day');\n",
    "axes.set_xticks(ind + width / 2)\n",
    "axes.set_xticklabels(train['day'].value_counts().sort_index().index, rotation=0)\n",
    "axes2 = axes.twinx()\n",
    "mr = axes2.plot(ind, train[['day', 'meter_reading']].groupby('day')['meter_reading'].mean().sort_index().values, 'D-', color='tab:orange', label='Mean meter reading');\n",
    "axes2.grid(False);\n",
    "axes2.tick_params(axis='y', labelcolor='tab:orange');\n",
    "axes2.set_ylabel('Mean meter reading by day of month', color='tab:orange');\n",
    "axes.legend([tr, tt], ['Train', 'Test'], facecolor='white');\n",
    "axes2.legend(loc=2, facecolor='white');"
   ]
  },
  {
   "cell_type": "markdown",
   "metadata": {},
   "source": [
    "<a id=\"observ_weekday\"></a>\n",
    "# Observation day of week"
   ]
  },
  {
   "cell_type": "code",
   "execution_count": null,
   "metadata": {},
   "outputs": [],
   "source": [
    "train['weekday'] = train['timestamp'].dt.weekday\n",
    "test['weekday'] = test['timestamp'].dt.weekday"
   ]
  },
  {
   "cell_type": "code",
   "execution_count": null,
   "metadata": {
    "_kg_hide-input": true
   },
   "outputs": [],
   "source": [
    "train_data = train['weekday'].value_counts(dropna=False, normalize=True).sort_index().values\n",
    "ind = np.arange(len(train_data))\n",
    "width = 0.35\n",
    "\n",
    "fig, axes = plt.subplots(1,1,figsize=(14, 6), dpi=100)\n",
    "tr = axes.bar(ind, train_data, width, color='royalblue')\n",
    "\n",
    "test_data = test['weekday'].value_counts(dropna=False, normalize=True).sort_index().values\n",
    "tt = axes.bar(ind+width, test_data, width, color='seagreen')\n",
    "\n",
    "axes.set_ylabel('Normalized number of observations');\n",
    "axes.set_xlabel('weekday');\n",
    "axes.set_xticks(ind + width / 2)\n",
    "axes2 = axes.twinx()\n",
    "mr = axes2.plot(ind, train[['weekday', 'meter_reading']].groupby('weekday')['meter_reading'].mean().sort_index().values, 'D-', color='tab:orange', label='Mean meter reading');\n",
    "axes2.grid(False);\n",
    "axes2.tick_params(axis='y', labelcolor='tab:orange');\n",
    "axes2.set_ylabel('Mean meter reading by day of week', color='tab:orange');\n",
    "axes.legend([tr, tt], ['Train', 'Test'], facecolor='white');\n",
    "axes2.legend(loc=2, facecolor='white');\n",
    "\n",
    "axes.set_xticklabels(train['weekday'].value_counts().sort_index().index.map({0: 'Monday', 1: 'Tuesday', 2: 'Wednesday', 3: 'Thursday', 4: 'Friday', 5: 'Saturday', 6: 'Sunday'}), rotation=40);"
   ]
  },
  {
   "cell_type": "code",
   "execution_count": null,
   "metadata": {},
   "outputs": [],
   "source": []
  },
  {
   "cell_type": "code",
   "execution_count": null,
   "metadata": {},
   "outputs": [],
   "source": []
  }
 ],
 "metadata": {
  "kernelspec": {
   "display_name": "Python 3",
   "language": "python",
   "name": "python3"
  },
  "language_info": {
   "codemirror_mode": {
    "name": "ipython",
    "version": 3
   },
   "file_extension": ".py",
   "mimetype": "text/x-python",
   "name": "python",
   "nbconvert_exporter": "python",
   "pygments_lexer": "ipython3",
   "version": "3.7.9"
  }
 },
 "nbformat": 4,
 "nbformat_minor": 1
}
