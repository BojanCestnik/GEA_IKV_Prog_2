{
 "cells": [
  {
   "cell_type": "markdown",
   "metadata": {},
   "source": [
    "# Neural network training and testing demonstration"
   ]
  },
  {
   "cell_type": "markdown",
   "metadata": {},
   "source": [
    "## Generate dataset"
   ]
  },
  {
   "cell_type": "code",
   "execution_count": null,
   "metadata": {},
   "outputs": [],
   "source": [
    "import numpy as np\n",
    "import pandas as pd\n",
    "from sklearn.model_selection import train_test_split\n",
    "from sklearn.neural_network import MLPClassifier\n",
    "\n",
    "# Step 1: Data Generation\n",
    "n_samples = 350\n",
    "constant = 0.15  # Define a constant for the class determination\n",
    "\n",
    "# Generate random data for x1 and x2\n",
    "np.random.seed(0)  # for reproducibility\n",
    "x1 = np.random.rand(n_samples)\n",
    "x2 = np.random.rand(n_samples)\n",
    "\n",
    "# Calculate class labels based on the given formula\n",
    "y = np.array([1 if (x1[i]**3 + x2[i]**3 + x2[i]**2) > constant else 0 for i in range(n_samples)]) # simpler quarter formula\n",
    "# y = np.array([1 if ((x1[i]-0.5)**2 + (x2[i]-0.5)**2) > constant else 0 for i in range(n_samples)])  # circle formula\n",
    "\n",
    "# Combine x1 and x2 into a feature matrix X\n",
    "X = np.column_stack((x1, x2))\n",
    "\n",
    "# Display the first few rows of the dataset\n",
    "data_demo = pd.DataFrame(X, columns=['x1', 'x2'])\n",
    "data_demo['class'] = y\n",
    "data_demo.head()\n"
   ]
  },
  {
   "cell_type": "markdown",
   "metadata": {},
   "source": [
    "## Preprocess dataset (80 % training, 20 % testing), train NN model, evaluate the trained NN model"
   ]
  },
  {
   "cell_type": "code",
   "execution_count": null,
   "metadata": {},
   "outputs": [],
   "source": [
    "# Step 2: Data Preprocessing\n",
    "\n",
    "# Splitting the dataset into training and testing sets\n",
    "X_train, X_test, y_train, y_test = train_test_split(X, y, test_size=0.2, random_state=0)\n",
    "\n",
    "# Step 3: Neural Network Construction\n",
    "# Create a basic Multi-layer Perceptron classifier\n",
    "mlp = MLPClassifier(hidden_layer_sizes=(7,5,), max_iter=9000, random_state=0) # simple architecture\n",
    "# mlp = MLPClassifier(hidden_layer_sizes=(11,7,), max_iter=9000, random_state=0)  # more complex architecture\n",
    "\n",
    "# Step 4: Training\n",
    "mlp.fit(X_train, y_train)\n",
    "\n",
    "# Step 5: Evaluation\n",
    "train_accuracy = mlp.score(X_train, y_train)\n",
    "test_accuracy = mlp.score(X_test, y_test)\n",
    "\n",
    "train_accuracy, test_accuracy\n"
   ]
  },
  {
   "cell_type": "markdown",
   "metadata": {},
   "source": [
    "## Visualize the training and testing dataset "
   ]
  },
  {
   "cell_type": "code",
   "execution_count": null,
   "metadata": {},
   "outputs": [],
   "source": [
    "import matplotlib.pyplot as plt\n",
    "\n",
    "# Plotting the dataset\n",
    "plt.figure(figsize=(8, 6))\n",
    "plt.scatter(x1[y == 0], x2[y == 0], color='blue', label='Class 0')\n",
    "plt.scatter(x1[y == 1], x2[y == 1], color='red', label='Class 1')\n",
    "plt.title('Scatter Plot of Synthetic Dataset')\n",
    "plt.xlabel('x1')\n",
    "plt.ylabel('x2')\n",
    "plt.legend()\n",
    "plt.show()\n"
   ]
  },
  {
   "cell_type": "markdown",
   "metadata": {},
   "source": [
    "## Use the NN model to predict the class of 500 new random data instances"
   ]
  },
  {
   "cell_type": "code",
   "execution_count": null,
   "metadata": {},
   "outputs": [],
   "source": [
    "# Step 6: Demonstration - Predicting on new samples\n",
    "new_samples = np.random.rand(500, 2)  # Generating 500 new samples\n",
    "\n",
    "# Use the trained model to predict the classes of the new samples\n",
    "predicted_classes = mlp.predict(new_samples)\n",
    "z = predicted_classes\n",
    "new_x1 = new_samples[:,0]\n",
    "new_x2 = new_samples[:,1]\n",
    "\n",
    "# Display the new samples and their predicted classes\n",
    "new_samples_with_predictions = pd.DataFrame(new_samples, columns=['x1', 'x2'])\n",
    "new_samples_with_predictions['predicted_class'] = predicted_classes\n",
    "new_samples_with_predictions\n"
   ]
  },
  {
   "cell_type": "markdown",
   "metadata": {},
   "source": [
    "## Plot the new 500 data instances with predicted class"
   ]
  },
  {
   "cell_type": "code",
   "execution_count": null,
   "metadata": {},
   "outputs": [],
   "source": [
    "# Plotting the dataset\n",
    "plt.figure(figsize=(8, 6))\n",
    "plt.scatter(new_x1[z == 0], new_x2[z == 0], color='blue', label='Class 0')\n",
    "plt.scatter(new_x1[z == 1], new_x2[z == 1], color='red', label='Class 1')\n",
    "plt.title('Scatter Plot of Predicted classes')\n",
    "plt.xlabel('x1')\n",
    "plt.ylabel('x2')\n",
    "plt.legend()\n",
    "plt.show()"
   ]
  },
  {
   "cell_type": "markdown",
   "metadata": {},
   "source": [
    "## Visualize the NN"
   ]
  },
  {
   "cell_type": "code",
   "execution_count": null,
   "metadata": {},
   "outputs": [],
   "source": [
    "def visualize_neural_network_with_weights(mlp):\n",
    "    \"\"\"\n",
    "    Visualize the structure and weights of a neural network created with sklearn's MLPClassifier.\n",
    "\n",
    "    Parameters:\n",
    "    mlp (MLPClassifier): An instance of sklearn's MLPClassifier.\n",
    "    \"\"\"\n",
    "    # Extract the number of layers and their sizes\n",
    "    layer_sizes = [mlp.coefs_[0].shape[0]] + [coefs.shape[1] for coefs in mlp.coefs_]\n",
    "\n",
    "    # Create a figure\n",
    "    fig, ax = plt.subplots(figsize=(12, 8))\n",
    "\n",
    "    # Variables to store the positions of neurons\n",
    "    neuron_positions = {}\n",
    "\n",
    "    # Plot the neurons layer by layer\n",
    "    for i, layer_size in enumerate(layer_sizes):\n",
    "        # Calculate positions for neurons in the current layer\n",
    "        layer_positions = np.linspace(0, 1, layer_size)\n",
    "        neuron_positions[i] = layer_positions\n",
    "\n",
    "        # Plot neurons\n",
    "        ax.scatter([i] * layer_size, layer_positions, s=100, label=f'Layer {i}')\n",
    "\n",
    "        # Draw connections from previous layer\n",
    "        if i > 0:\n",
    "            for prev_neuron in range(layer_sizes[i - 1]):\n",
    "                for curr_neuron in range(layer_size):\n",
    "                    # Weight from prev_neuron to curr_neuron\n",
    "                    weight = mlp.coefs_[i - 1][prev_neuron, curr_neuron]\n",
    "\n",
    "                    # Draw line with color and width based on the weight\n",
    "                    color = 'blue' if weight > 0 else 'red'\n",
    "                    linewidth = min(max(abs(weight), 0.1), 5)\n",
    "                    ax.plot([i - 1, i], [neuron_positions[i - 1][prev_neuron], layer_positions[curr_neuron]], \n",
    "                            color=color, linewidth=linewidth)\n",
    "\n",
    "    # Annotating the layers\n",
    "    for i in range(len(layer_sizes)):\n",
    "        ax.annotate(f'Layer {i}', (i, 0.5), textcoords=\"offset points\", xytext=(0,10), ha='center')\n",
    "\n",
    "    ax.set_title('Neural Network Architecture with Weights')\n",
    "    ax.axis('off')\n",
    "    plt.legend()\n",
    "    plt.show()\n",
    "\n",
    "# Visualize the neural network with weights\n",
    "visualize_neural_network_with_weights(mlp)\n"
   ]
  },
  {
   "cell_type": "code",
   "execution_count": null,
   "metadata": {},
   "outputs": [],
   "source": [
    "def visualize_neural_network_with_weight_labels(mlp):\n",
    "    \"\"\"\n",
    "    Visualize the structure and weights of a neural network with weight values labeled,\n",
    "    created with sklearn's MLPClassifier.\n",
    "\n",
    "    Parameters:\n",
    "    mlp (MLPClassifier): An instance of sklearn's MLPClassifier.\n",
    "    \"\"\"\n",
    "    # Extract the number of layers and their sizes\n",
    "    layer_sizes = [mlp.coefs_[0].shape[0]] + [coefs.shape[1] for coefs in mlp.coefs_]\n",
    "\n",
    "    # Create a figure\n",
    "    fig, ax = plt.subplots(figsize=(12, 8))\n",
    "\n",
    "    # Variables to store the positions of neurons\n",
    "    neuron_positions = {}\n",
    "\n",
    "    # Plot the neurons layer by layer\n",
    "    for i, layer_size in enumerate(layer_sizes):\n",
    "        # Calculate positions for neurons in the current layer\n",
    "        layer_positions = np.linspace(0, 1, layer_size)\n",
    "        neuron_positions[i] = layer_positions\n",
    "\n",
    "        # Plot neurons\n",
    "        ax.scatter([i] * layer_size, layer_positions, s=100, label=f'Layer {i}')\n",
    "\n",
    "        # Draw connections and labels from the previous layer\n",
    "        if i > 0:\n",
    "            for prev_neuron in range(layer_sizes[i - 1]):\n",
    "                for curr_neuron in range(layer_size):\n",
    "                    # Weight from prev_neuron to curr_neuron\n",
    "                    weight = mlp.coefs_[i - 1][prev_neuron, curr_neuron]\n",
    "\n",
    "                    # Draw line with color and width based on the weight\n",
    "                    color = 'blue' if weight > 0 else 'red'\n",
    "                    linewidth = min(max(abs(weight), 0.1), 5)\n",
    "                    line = ax.plot([i - 1, i], [neuron_positions[i - 1][prev_neuron], layer_positions[curr_neuron]], \n",
    "                                   color=color, linewidth=linewidth)\n",
    "\n",
    "                    # Adding weight values as text\n",
    "                    midpoint = [(i - 1 + i) / 2, (neuron_positions[i - 1][prev_neuron] + layer_positions[curr_neuron]) / 2]\n",
    "                    text = f'{weight:.3f}'\n",
    "                    ax.text(midpoint[0], midpoint[1], text, color=color, fontsize=8)\n",
    "\n",
    "    # Annotating the layers\n",
    "    for i in range(len(layer_sizes)):\n",
    "        ax.annotate(f'Layer {i}', (i, 0.5), textcoords=\"offset points\", xytext=(0,10), ha='center')\n",
    "\n",
    "    ax.set_title('Neural Network Architecture with Weights')\n",
    "    ax.axis('off')\n",
    "    plt.legend()\n",
    "    plt.show()\n",
    "\n",
    "# Visualize the neural network with weight labels\n",
    "visualize_neural_network_with_weight_labels(mlp)\n"
   ]
  },
  {
   "cell_type": "code",
   "execution_count": null,
   "metadata": {},
   "outputs": [],
   "source": []
  }
 ],
 "metadata": {
  "kernelspec": {
   "display_name": "venv",
   "language": "python",
   "name": "python3"
  },
  "language_info": {
   "codemirror_mode": {
    "name": "ipython",
    "version": 3
   },
   "file_extension": ".py",
   "mimetype": "text/x-python",
   "name": "python",
   "nbconvert_exporter": "python",
   "pygments_lexer": "ipython3",
   "version": "3.7.9"
  }
 },
 "nbformat": 4,
 "nbformat_minor": 2
}
