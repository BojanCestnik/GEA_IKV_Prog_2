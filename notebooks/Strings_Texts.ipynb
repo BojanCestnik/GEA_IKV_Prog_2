{
 "cells": [
  {
   "cell_type": "markdown",
   "metadata": {},
   "source": [
    "# String Data Type in Python\n",
    "\n",
    "In Python, a string is a sequence of characters. Strings in Python are immutable, which means once a string is created, it cannot be changed. However, you can create a new string based on the original string with modifications. Strings can be defined using either single quotes (' ') or double quotes (\" \"), and they can contain letters, numbers, special characters, spaces, and even escape sequences (like \\n for a new line).\n",
    "\n",
    "## String Operations\n",
    "\n",
    "Concatenation: Joining two or more strings together.\n",
    "Indexing: Accessing a specific character in a string using its position.\n",
    "Slicing: Extracting a portion of a string."
   ]
  },
  {
   "cell_type": "code",
   "execution_count": 2,
   "metadata": {},
   "outputs": [
    {
     "name": "stdout",
     "output_type": "stream",
     "text": [
      "Concatenated String: Hello World\n",
      "Character at index 4 in 'Hello': o\n",
      " - Note: the first character in string has index 0.\n",
      "Sliced string from index 1 to 4 in 'Hello': ell\n"
     ]
    }
   ],
   "source": [
    "# String concatenation\n",
    "string1 = \"Hello\"\n",
    "string2 = \"World\"\n",
    "concatenated_string = string1 + \" \" + string2\n",
    "print(\"Concatenated String:\", concatenated_string)\n",
    "\n",
    "# String indexing\n",
    "index = 4\n",
    "character_at_index = string1[index]\n",
    "print(f\"Character at index {index} in '{string1}':\", character_at_index)\n",
    "print(' - Note: the first character in string has index 0.')\n",
    "\n",
    "# String slicing\n",
    "start_index = 1\n",
    "end_index = 4\n",
    "sliced_string = string1[start_index:end_index]\n",
    "print(f\"Sliced string from index {start_index} to {end_index} in '{string1}':\", sliced_string)\n"
   ]
  },
  {
   "cell_type": "code",
   "execution_count": 3,
   "metadata": {},
   "outputs": [
    {
     "data": {
      "text/plain": [
       "('Hello World', 'o', 'ell')"
      ]
     },
     "execution_count": 3,
     "metadata": {},
     "output_type": "execute_result"
    }
   ],
   "source": [
    "# Repeat with implicit printing\n",
    "\n",
    "# Defining the strings\n",
    "string1 = \"Hello\"\n",
    "string2 = \"World\"\n",
    "\n",
    "# String concatenation\n",
    "concatenated_string = string1 + \" \" + string2\n",
    "\n",
    "# String indexing\n",
    "index = 4\n",
    "character_at_index = string1[index]\n",
    "\n",
    "# String slicing\n",
    "start_index = 1\n",
    "end_index = 4\n",
    "sliced_string = string1[start_index:end_index]\n",
    "\n",
    "(concatenated_string, character_at_index, sliced_string)\n"
   ]
  },
  {
   "cell_type": "markdown",
   "metadata": {},
   "source": [
    "## String Character Encoding\n",
    "\n",
    "Character encoding is a system that pairs a sequence of characters from a given set with something else (e.g. ordinal numbers) to enable the transmission and storage of data. In computing, we deal with different character encodings due to historical and practical reasons.\n",
    "\n",
    "1. ASCII (American Standard Code for Information Interchange):\n",
    "\n",
    "- It was one of the first character encodings and is based on the English alphabet.\n",
    "- ASCII uses 7 bits to represent each character, allowing for 128 different symbols.\n",
    "- It covers English letters, digits, and a few punctuation marks, but lacks characters from non-English languages.\n",
    "\n",
    "2. Unicode:\n",
    "\n",
    "- Unicode is a computing industry standard designed to consistently represent text expressed in most of the world's writing systems.\n",
    "- It can represent over a million characters, covering a wide array of languages and symbols.\n",
    "- Unicode is an abstract representation. To store Unicode characters in memory or on disk, we need a specific encoding, such as UTF-8 or UTF-16.\n",
    "\n",
    "3. UTF-8 (Unicode Transformation Format - 8 bits):\n",
    "\n",
    "- It is a variable-width character encoding that can represent any character in the Unicode standard.\n",
    "- UTF-8 is backward-compatible with ASCII.\n",
    "- It's the dominant character encoding for the web.\n",
    "\n",
    "4. Code Page (Windows Encoding):\n",
    "\n",
    "- Before Unicode became widespread, many different encodings were created to handle different languages and character sets. Windows had its own set of encodings known as \"code pages\".\n",
    "- Each code page supports different character sets. For instance, CP1250 is for Eastern European languages, while CP1251 is for Cyrillic script.\n",
    "- With the advent of Unicode, code pages have become less common, but you might still encounter them in legacy systems or older data.\n",
    "\n",
    "Converting Between Various String Encodings in Python:\n",
    "\n",
    "In Python, you can convert a string from one encoding to another using the *encode()* and *decode()* methods."
   ]
  },
  {
   "cell_type": "code",
   "execution_count": 9,
   "metadata": {},
   "outputs": [
    {
     "data": {
      "text/plain": [
       "(b'Hello, World! \\xe2\\x80\\x93 Special Character and Local Characters \\xc4\\x8d\\xc5\\xa1\\xc5\\xbe',\n",
       " 'Hello, World! – Special Character and Local Characters čšž',\n",
       " b'Hello, World! \\x96 Special Character and Local Characters \\xe8\\x9a\\x9e',\n",
       " 'Hello, World! – Special Character and Local Characters čšž')"
      ]
     },
     "execution_count": 9,
     "metadata": {},
     "output_type": "execute_result"
    }
   ],
   "source": [
    "# Original string (contains a special character for demonstration purposes)\n",
    "original_string = \"Hello, World! – Special Character and Local Characters čšž\"\n",
    "\n",
    "# Encoding the string to bytes in UTF-8\n",
    "utf8_encoded = original_string.encode('utf-8')\n",
    "\n",
    "# Decoding the bytes from UTF-8 to string\n",
    "utf8_decoded = utf8_encoded.decode('utf-8')\n",
    "\n",
    "# Encoding the string to bytes in CP1252 (Windows Encoding)\n",
    "cp1252_encoded = original_string.encode('cp1250', errors='ignore')  # ignoring characters not supported by CP1250\n",
    "\n",
    "# Decoding the bytes from CP1252 to string\n",
    "cp1252_decoded = cp1252_encoded.decode('cp1250')\n",
    "\n",
    "utf8_encoded, utf8_decoded, cp1252_encoded, cp1252_decoded\n"
   ]
  },
  {
   "cell_type": "markdown",
   "metadata": {},
   "source": [
    "The built-in *sorted()* function in Python can be used to return a new list containing all items from the original list (or any iterable), sorted in ascending order by default. When applied to strings, sorted() treats the string as a sequence of characters and returns a list of characters sorted in ascending order."
   ]
  },
  {
   "cell_type": "code",
   "execution_count": 17,
   "metadata": {},
   "outputs": [
    {
     "data": {
      "text/plain": [
       "'aggimmnoprr'"
      ]
     },
     "execution_count": 17,
     "metadata": {},
     "output_type": "execute_result"
    }
   ],
   "source": [
    "# Original string\n",
    "string = \"programming\"\n",
    "# string = \"češnja\"\n",
    "\n",
    "# Sorting the string\n",
    "sorted_characters = sorted(string)\n",
    "\n",
    "# Joining the sorted characters to form a sorted string\n",
    "sorted_string = ''.join(sorted_characters)\n",
    "\n",
    "sorted_string\n"
   ]
  },
  {
   "cell_type": "code",
   "execution_count": 18,
   "metadata": {},
   "outputs": [
    {
     "data": {
      "text/plain": [
       "['apple', 'banana', 'cherry', 'date', 'češnja', 'želod']"
      ]
     },
     "execution_count": 18,
     "metadata": {},
     "output_type": "execute_result"
    }
   ],
   "source": [
    "# List of strings\n",
    "string_list = [\"banana\", \"želod\", \"apple\", \"cherry\", \"date\", \"češnja\"]\n",
    "\n",
    "# Sorting the list of strings\n",
    "sorted_list = sorted(string_list)\n",
    "\n",
    "sorted_list\n"
   ]
  },
  {
   "cell_type": "code",
   "execution_count": null,
   "metadata": {},
   "outputs": [],
   "source": []
  },
  {
   "cell_type": "code",
   "execution_count": null,
   "metadata": {},
   "outputs": [],
   "source": []
  },
  {
   "cell_type": "code",
   "execution_count": null,
   "metadata": {},
   "outputs": [],
   "source": []
  },
  {
   "cell_type": "code",
   "execution_count": null,
   "metadata": {},
   "outputs": [],
   "source": []
  }
 ],
 "metadata": {
  "kernelspec": {
   "display_name": "venv",
   "language": "python",
   "name": "python3"
  },
  "language_info": {
   "codemirror_mode": {
    "name": "ipython",
    "version": 3
   },
   "file_extension": ".py",
   "mimetype": "text/x-python",
   "name": "python",
   "nbconvert_exporter": "python",
   "pygments_lexer": "ipython3",
   "version": "3.7.9"
  }
 },
 "nbformat": 4,
 "nbformat_minor": 2
}
