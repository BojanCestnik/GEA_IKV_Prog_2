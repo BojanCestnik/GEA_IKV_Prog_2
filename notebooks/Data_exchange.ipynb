{
 "cells": [
  {
   "cell_type": "markdown",
   "metadata": {},
   "source": [
    "# Data exchange between applications"
   ]
  },
  {
   "cell_type": "markdown",
   "metadata": {},
   "source": [
    "Data exchange between applications is a crucial aspect of modern software development, and various data formats are used for this purpose. The importance of each format can vary depending on the use case, but generally, the following are considered some of the most important:\n",
    "\n",
    "* JSON (JavaScript Object Notation): JSON is arguably the most popular data format for data exchange, especially in web applications. Its lightweight nature, human-readable format, and compatibility with JavaScript make it highly preferred for client-server communication.\n",
    "\n",
    "* XML (eXtensible Markup Language): XML is another widely used format, particularly in enterprise and legacy systems. It is more verbose than JSON but is highly flexible and supports complex data structures. It is also language-independent and supports namespaces and schemas.\n",
    "\n",
    "* Protobuf (Protocol Buffers): Developed by Google, Protobuf is a language-agnostic binary serialization format. It's known for being more efficient and faster than JSON and XML, making it a good choice for internal communication in distributed systems and microservices.\n",
    "\n",
    "* YAML (YAML Ain't Markup Language): YAML is often used for configuration files and data serialization. It's more human-readable than JSON and XML, making it a popular choice for settings, configuration files, and data that need to be easily understood and edited by humans.\n",
    "\n",
    "* CSV (Comma-Separated Values): CSV is a simple format used to store tabular data. It's widely used for data export and import in databases and spreadsheets. Its simplicity and widespread support in many tools make it a common choice for data exchange, especially when dealing with large volumes of tabular data.\n",
    "\n",
    "These formats cover a wide range of use cases, from web APIs (JSON, XML) to configuration management (YAML) and data analysis (CSV). The choice of format often depends on the specific requirements of the application, such as speed, readability, and compatibility with existing systems."
   ]
  },
  {
   "cell_type": "code",
   "execution_count": null,
   "metadata": {},
   "outputs": [],
   "source": [
    "import json\n",
    "import dicttoxml\n",
    "\n",
    "def producer_main():\n",
    "    # Data to be exchanged\n",
    "    data = {\n",
    "        \"name\": \"Alenka\",\n",
    "        \"age\": 30,\n",
    "        \"email\": \"alenka@example.com\",\n",
    "        \"colors\": ['red', 'green', 'blue']\n",
    "    }\n",
    "\n",
    "    # Convert data to JSON\n",
    "    json_data = json.dumps(data)\n",
    "    print(\"JSON Data:\\n\", json_data)\n",
    "\n",
    "    # Convert data to XML\n",
    "    xml_data = dicttoxml.dicttoxml(data).decode()\n",
    "    print(\"\\nXML Data:\\n\", xml_data)\n"
   ]
  },
  {
   "cell_type": "code",
   "execution_count": null,
   "metadata": {},
   "outputs": [],
   "source": [
    "producer_main()"
   ]
  },
  {
   "cell_type": "code",
   "execution_count": null,
   "metadata": {},
   "outputs": [],
   "source": [
    "import json\n",
    "import xml.etree.ElementTree as ET\n",
    "\n",
    "def process_json(json_data):\n",
    "    data = json.loads(json_data)\n",
    "    print(\"Processed JSON:\\n\", data)\n",
    "\n",
    "def process_xml(xml_data):\n",
    "    tree = ET.ElementTree(ET.fromstring(xml_data))\n",
    "    root = tree.getroot()\n",
    "    data = {child.tag: child.text for child in root}\n",
    "    print(\"Processed XML:\\n\", data)\n",
    "\n",
    "def consumer_main():\n",
    "    # Sample JSON data\n",
    "    json_data = '{\"name\": \"Alenka\", \"age\": 30, \"email\": \"alenka@example.com\", \"colors\": [\"red\", \"green\", \"blue\"]}'\n",
    "    process_json(json_data)\n",
    "\n",
    "    # Sample XML data\n",
    "    xml_data = '<root><name>Alenka</name><age>30</age><email>alenka@example.com</email><colors><item>red</item><item>green</item><item>blue</item></colors></root>'\n",
    "    process_xml(xml_data)\n"
   ]
  },
  {
   "cell_type": "code",
   "execution_count": null,
   "metadata": {},
   "outputs": [],
   "source": [
    "consumer_main()"
   ]
  },
  {
   "cell_type": "markdown",
   "metadata": {},
   "source": [
    "Seznama izranih barv ta skripta ne prebere pravilno. Zato uporabimo dodatno funkcionalnost:"
   ]
  },
  {
   "cell_type": "code",
   "execution_count": null,
   "metadata": {},
   "outputs": [],
   "source": [
    "import xml.etree.ElementTree as ET\n",
    "\n",
    "def xml_to_dict(xml_string):\n",
    "    \"\"\"\n",
    "    Convert an XML string to a Python dictionary, where each element can contain a list of items.\n",
    "    \"\"\"\n",
    "    # Parse the XML string\n",
    "    root = ET.fromstring(xml_string)\n",
    "\n",
    "    def _parse_element(element):\n",
    "        \"\"\"\n",
    "        Recursively parse an XML element and convert it into a dictionary or list.\n",
    "        \"\"\"\n",
    "        # Base case: If the element has no sub-elements\n",
    "        if not element:\n",
    "            return element.text\n",
    "\n",
    "        # Group elements by tag\n",
    "        grouped_elements = {}\n",
    "        for sub_elem in element:\n",
    "            if sub_elem.tag in grouped_elements:\n",
    "                grouped_elements[sub_elem.tag].append(_parse_element(sub_elem))\n",
    "            else:\n",
    "                grouped_elements[sub_elem.tag] = [_parse_element(sub_elem)]\n",
    "\n",
    "        # Unpack single-item lists\n",
    "        for tag, items in grouped_elements.items():\n",
    "            if len(items) == 1:\n",
    "                grouped_elements[tag] = items[0]\n",
    "\n",
    "        return grouped_elements\n",
    "\n",
    "    # Parse the root element\n",
    "    return {root.tag: _parse_element(root)}\n"
   ]
  },
  {
   "cell_type": "code",
   "execution_count": null,
   "metadata": {},
   "outputs": [],
   "source": [
    "# xml data file\n",
    "xml_data = '<root><name>Alenka</name><age>30</age><email>alenka@example.com</email><colors><item>red</item><item>green</item><item>blue</item></colors></root>'\n",
    "\n",
    "xml_dict = xml_to_dict(xml_data)\n",
    "\n",
    "print(xml_dict)\n"
   ]
  },
  {
   "cell_type": "markdown",
   "metadata": {},
   "source": [
    "# Protobuf (Protocol Buffers)"
   ]
  },
  {
   "cell_type": "markdown",
   "metadata": {},
   "source": [
    "Create file person.proto with the following contents:\n",
    "\n",
    "```python\n",
    "syntax = \"proto3\";\n",
    "\n",
    "message Person {\n",
    "  string name = 1;\n",
    "  int32 id = 2;\n",
    "}\n",
    "```\n",
    "\n",
    "Install Protobuf from github and execute a command line:\n",
    "\n",
    "```protoc -I=. --python_out=. person.proto```"
   ]
  },
  {
   "cell_type": "code",
   "execution_count": null,
   "metadata": {},
   "outputs": [],
   "source": [
    "from person_pb2 import Person\n",
    "import sys\n",
    "\n",
    "def serialize_person():\n",
    "    # Create a new Person\n",
    "    person = Person()\n",
    "    person.name = \"John Doe\"\n",
    "    person.id = 1234\n",
    "\n",
    "    # Serialize the person to a binary string\n",
    "    serialized_data = person.SerializeToString()\n",
    "    return serialized_data\n",
    "\n",
    "def deserialize_person(serialized_data):\n",
    "    # Create a new Person\n",
    "    person = Person()\n",
    "\n",
    "    # Parse the serialized data\n",
    "    person.ParseFromString(serialized_data)\n",
    "\n",
    "    return person\n",
    "\n",
    "# Serialize a person\n",
    "serialized_person = serialize_person()\n",
    "\n",
    "# Print the serialized data\n",
    "print(\"Serialized Person:\", serialized_person)\n",
    "\n",
    "# Deserialize the person\n",
    "deserialized_person = deserialize_person(serialized_person)\n",
    "\n",
    "# Print the deserialized data\n",
    "print(\"Deserialized Person:\\nName: {}\\nID: {}\".format(deserialized_person.name, deserialized_person.id))\n"
   ]
  },
  {
   "cell_type": "code",
   "execution_count": null,
   "metadata": {},
   "outputs": [],
   "source": []
  }
 ],
 "metadata": {
  "kernelspec": {
   "display_name": "venv",
   "language": "python",
   "name": "python3"
  },
  "language_info": {
   "codemirror_mode": {
    "name": "ipython",
    "version": 3
   },
   "file_extension": ".py",
   "mimetype": "text/x-python",
   "name": "python",
   "nbconvert_exporter": "python",
   "pygments_lexer": "ipython3",
   "version": "3.7.9"
  }
 },
 "nbformat": 4,
 "nbformat_minor": 2
}
